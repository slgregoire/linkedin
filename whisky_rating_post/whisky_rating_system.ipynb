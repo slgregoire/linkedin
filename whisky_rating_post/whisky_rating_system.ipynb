{
 "cells": [
  {
   "cell_type": "markdown",
   "metadata": {},
   "source": [
    "In this post, I propose and implement a method of quality ranking scotches that attempts to remove as much as possible the preferences and tasting ability of raters from influencing the ultimate ranking results. First, I define the ranking method, then I implement it, generating a list of the \"best\" scotches."
   ]
  },
  {
   "cell_type": "markdown",
   "metadata": {},
   "source": [
    "#### Method"
   ]
  },
  {
   "cell_type": "markdown",
   "metadata": {},
   "source": [
    "To rank scotches, one first needs to specify a set of criteria by which to judge every scotch. Once those criteria are defined, the \"best\" scotches will be those that rank most highly according to the criteria. I propose complexity and balance as the essential criteria to judge scotch. (These criteria are based upon Brooks in Whisky and Philosophy.) \n",
    "\n",
    "Imagine the ideal or perfect scotch. According to one theory, that scotch would possess all the possible flavors that a scotch could possess. For example, it would be fruity, smoky, peaty, et cetera. A scotch that possesses a large number of the possible flavors that a scotch could posses is called complex or multidimensional. In additional, in the ideal scotch each of the flavors would be distinct, not muddled, and discernible. No small group of flavors would dominate all of the others. If a scotch possesses this quality, it is called balanced. So not only does the ideal scotch possess a large number of flavors, it possess them in right proportion to one another so that all are identifiable. \n",
    "\n",
    "The complex and balanced a scotch is, the more closely it approximates the ideal scotch and the higher it ranks according to this method."
   ]
  },
  {
   "cell_type": "markdown",
   "metadata": {},
   "source": [
    "#### Implementation"
   ]
  },
  {
   "cell_type": "code",
   "execution_count": 2,
   "metadata": {
    "collapsed": false
   },
   "outputs": [
    {
     "name": "stderr",
     "output_type": "stream",
     "text": [
      ":0: FutureWarning: IPython widgets are experimental and may change in the future.\n"
     ]
    }
   ],
   "source": [
    "%matplotlib inline\n",
    "import pandas as pd\n",
    "import numpy as np\n",
    "import seaborn as sns\n",
    "import matplotlib.pyplot as plt\n",
    "sns.set_style('whitegrid')\n",
    "sns.set_context(\"notebook\", font_scale=1.2)"
   ]
  },
  {
   "cell_type": "code",
   "execution_count": 3,
   "metadata": {
    "collapsed": true
   },
   "outputs": [],
   "source": [
    "file_name = 'whiskies_w_coords.csv'\n",
    "top_scotches_to_map = 5"
   ]
  },
  {
   "cell_type": "code",
   "execution_count": 4,
   "metadata": {
    "collapsed": false
   },
   "outputs": [],
   "source": [
    "data = pd.read_csv(file_name)\n",
    "to_rename = {\n",
    "    'whiskies.Latitude':'FinalLat',\n",
    "    'whiskies.Longitude':'FinalLong'\n",
    "}\n",
    "data = data.rename(columns=to_rename)\n",
    "data = data.set_index('Distillery')\n",
    "data = data.loc[:,'Body':]"
   ]
  },
  {
   "cell_type": "code",
   "execution_count": 5,
   "metadata": {
    "collapsed": false
   },
   "outputs": [],
   "source": [
    "flavors = data.loc[:, 'Body':'Floral']\n",
    "location = data.loc[:, 'FinalLat':]"
   ]
  },
  {
   "cell_type": "markdown",
   "metadata": {},
   "source": [
    "How can one actually implement this method of ranking scotches? Before I answer that question, I will describe the data are used as inputs to the method. The data, which can be sourced from this site [source], describe the range and intensity of flavors that are present in a given scotch. The data set has 12 columns; each one corresponding to a different flavor that may be present in scotch, for example sweetness, smoky, honey, or floral. Each row of the data set corresponds to a distillery, and each distillery is only represented by a single record. You may ask, how is each distillery able to be represented by single record? The reason is that each distillery is rated based upon its most popular issuance. Each distillery is rated from 0 to 4 in each flavor category; 0 being low/no intensity to 5 being high intensity. The 0 to 4 ratings were assigned initially by a small panel of experts, then passed around to various other members of the whisky industry for feedback. See [source] for more info on the data and the details of the original analysis, including clustering and principal component analysis, done with this data"
   ]
  },
  {
   "cell_type": "code",
   "execution_count": 6,
   "metadata": {
    "collapsed": false
   },
   "outputs": [
    {
     "data": {
      "text/html": [
       "<div>\n",
       "<table border=\"1\" class=\"dataframe\">\n",
       "  <thead>\n",
       "    <tr style=\"text-align: right;\">\n",
       "      <th></th>\n",
       "      <th>Body</th>\n",
       "      <th>Sweetness</th>\n",
       "      <th>Smoky</th>\n",
       "      <th>Medicinal</th>\n",
       "      <th>Tobacco</th>\n",
       "      <th>Honey</th>\n",
       "      <th>Spicy</th>\n",
       "      <th>Winey</th>\n",
       "      <th>Nutty</th>\n",
       "      <th>Malty</th>\n",
       "      <th>Fruity</th>\n",
       "      <th>Floral</th>\n",
       "    </tr>\n",
       "    <tr>\n",
       "      <th>Distillery</th>\n",
       "      <th></th>\n",
       "      <th></th>\n",
       "      <th></th>\n",
       "      <th></th>\n",
       "      <th></th>\n",
       "      <th></th>\n",
       "      <th></th>\n",
       "      <th></th>\n",
       "      <th></th>\n",
       "      <th></th>\n",
       "      <th></th>\n",
       "      <th></th>\n",
       "    </tr>\n",
       "  </thead>\n",
       "  <tbody>\n",
       "    <tr>\n",
       "      <th>Aberfeldy</th>\n",
       "      <td>2</td>\n",
       "      <td>2</td>\n",
       "      <td>2</td>\n",
       "      <td>0</td>\n",
       "      <td>0</td>\n",
       "      <td>2</td>\n",
       "      <td>1</td>\n",
       "      <td>2</td>\n",
       "      <td>2</td>\n",
       "      <td>2</td>\n",
       "      <td>2</td>\n",
       "      <td>2</td>\n",
       "    </tr>\n",
       "    <tr>\n",
       "      <th>Aberlour</th>\n",
       "      <td>3</td>\n",
       "      <td>3</td>\n",
       "      <td>1</td>\n",
       "      <td>0</td>\n",
       "      <td>0</td>\n",
       "      <td>4</td>\n",
       "      <td>3</td>\n",
       "      <td>2</td>\n",
       "      <td>2</td>\n",
       "      <td>3</td>\n",
       "      <td>3</td>\n",
       "      <td>2</td>\n",
       "    </tr>\n",
       "    <tr>\n",
       "      <th>AnCnoc</th>\n",
       "      <td>1</td>\n",
       "      <td>3</td>\n",
       "      <td>2</td>\n",
       "      <td>0</td>\n",
       "      <td>0</td>\n",
       "      <td>2</td>\n",
       "      <td>0</td>\n",
       "      <td>0</td>\n",
       "      <td>2</td>\n",
       "      <td>2</td>\n",
       "      <td>3</td>\n",
       "      <td>2</td>\n",
       "    </tr>\n",
       "    <tr>\n",
       "      <th>Ardbeg</th>\n",
       "      <td>4</td>\n",
       "      <td>1</td>\n",
       "      <td>4</td>\n",
       "      <td>4</td>\n",
       "      <td>0</td>\n",
       "      <td>0</td>\n",
       "      <td>2</td>\n",
       "      <td>0</td>\n",
       "      <td>1</td>\n",
       "      <td>2</td>\n",
       "      <td>1</td>\n",
       "      <td>0</td>\n",
       "    </tr>\n",
       "    <tr>\n",
       "      <th>Ardmore</th>\n",
       "      <td>2</td>\n",
       "      <td>2</td>\n",
       "      <td>2</td>\n",
       "      <td>0</td>\n",
       "      <td>0</td>\n",
       "      <td>1</td>\n",
       "      <td>1</td>\n",
       "      <td>1</td>\n",
       "      <td>2</td>\n",
       "      <td>3</td>\n",
       "      <td>1</td>\n",
       "      <td>1</td>\n",
       "    </tr>\n",
       "  </tbody>\n",
       "</table>\n",
       "</div>"
      ],
      "text/plain": [
       "            Body  Sweetness  Smoky  Medicinal  Tobacco  Honey  Spicy  Winey  \\\n",
       "Distillery                                                                    \n",
       "Aberfeldy      2          2      2          0        0      2      1      2   \n",
       "Aberlour       3          3      1          0        0      4      3      2   \n",
       "AnCnoc         1          3      2          0        0      2      0      0   \n",
       "Ardbeg         4          1      4          4        0      0      2      0   \n",
       "Ardmore        2          2      2          0        0      1      1      1   \n",
       "\n",
       "            Nutty  Malty  Fruity  Floral  \n",
       "Distillery                                \n",
       "Aberfeldy       2      2       2       2  \n",
       "Aberlour        2      3       3       2  \n",
       "AnCnoc          2      2       3       2  \n",
       "Ardbeg          1      2       1       0  \n",
       "Ardmore         2      3       1       1  "
      ]
     },
     "execution_count": 6,
     "metadata": {},
     "output_type": "execute_result"
    }
   ],
   "source": [
    "flavors.head()"
   ]
  },
  {
   "cell_type": "code",
   "execution_count": 7,
   "metadata": {
    "collapsed": false
   },
   "outputs": [
    {
     "data": {
      "text/html": [
       "<div>\n",
       "<table border=\"1\" class=\"dataframe\">\n",
       "  <thead>\n",
       "    <tr style=\"text-align: right;\">\n",
       "      <th></th>\n",
       "      <th>FinalLat</th>\n",
       "      <th>FinalLong</th>\n",
       "    </tr>\n",
       "    <tr>\n",
       "      <th>Distillery</th>\n",
       "      <th></th>\n",
       "      <th></th>\n",
       "    </tr>\n",
       "  </thead>\n",
       "  <tbody>\n",
       "    <tr>\n",
       "      <th>Aberfeldy</th>\n",
       "      <td>-3.850199</td>\n",
       "      <td>56.625191</td>\n",
       "    </tr>\n",
       "    <tr>\n",
       "      <th>Aberlour</th>\n",
       "      <td>-3.229644</td>\n",
       "      <td>57.467395</td>\n",
       "    </tr>\n",
       "    <tr>\n",
       "      <th>AnCnoc</th>\n",
       "      <td>-2.785295</td>\n",
       "      <td>57.441751</td>\n",
       "    </tr>\n",
       "    <tr>\n",
       "      <th>Ardbeg</th>\n",
       "      <td>-6.108503</td>\n",
       "      <td>55.640607</td>\n",
       "    </tr>\n",
       "    <tr>\n",
       "      <th>Ardmore</th>\n",
       "      <td>-2.743629</td>\n",
       "      <td>57.350557</td>\n",
       "    </tr>\n",
       "  </tbody>\n",
       "</table>\n",
       "</div>"
      ],
      "text/plain": [
       "            FinalLat  FinalLong\n",
       "Distillery                     \n",
       "Aberfeldy  -3.850199  56.625191\n",
       "Aberlour   -3.229644  57.467395\n",
       "AnCnoc     -2.785295  57.441751\n",
       "Ardbeg     -6.108503  55.640607\n",
       "Ardmore    -2.743629  57.350557"
      ]
     },
     "execution_count": 7,
     "metadata": {},
     "output_type": "execute_result"
    }
   ],
   "source": [
    "location.head()"
   ]
  },
  {
   "cell_type": "markdown",
   "metadata": {},
   "source": [
    "Using the data described above, one can calculate quantitatve measures of both complexity and balance and then rank scotches based upon these measures. First, I capture complexity by counting the number of characteristics with non-zero intensity rating; I refer to this count as the \"complexity score.\" Second, I capture balance by calculating the mean flavor intensity divided by standard deviation of flavor intensities; I refer to the mean divided by the standard devation as the \"balance score.\" A postive correlation between mean intensity and the balance score is meant to capture the idea that a more intense flavor overall is better than a less intense one. A negative correlation between standard deviation and the balance score is meant to capture the idea being that a scotch with similar ratings across flavor categories is more balanced than one with more disparate flavor intensities. In summary, \"balance\" increases as mean flavor intensity increases and decreases as the standard deviation of flavor intensities increases."
   ]
  },
  {
   "cell_type": "markdown",
   "metadata": {},
   "source": [
    "Calculate the \"complexity\" score."
   ]
  },
  {
   "cell_type": "code",
   "execution_count": 8,
   "metadata": {
    "collapsed": false
   },
   "outputs": [],
   "source": [
    "flavors_count = flavors != 0\n",
    "ratings = pd.DataFrame()\n",
    "ratings['ComplexityScore'] = flavors_count.sum(axis=1)"
   ]
  },
  {
   "cell_type": "markdown",
   "metadata": {},
   "source": [
    "Calculate the \"balance\" score."
   ]
  },
  {
   "cell_type": "code",
   "execution_count": 9,
   "metadata": {
    "collapsed": false
   },
   "outputs": [],
   "source": [
    "ratings['Mean'] = flavors.mean(axis=1)\n",
    "ratings['Std'] = flavors.std(axis=1)\n",
    "ratings['BalanceScore'] = ratings['Mean']/ratings['Std']"
   ]
  },
  {
   "cell_type": "code",
   "execution_count": 10,
   "metadata": {
    "collapsed": false
   },
   "outputs": [
    {
     "data": {
      "text/html": [
       "<div>\n",
       "<table border=\"1\" class=\"dataframe\">\n",
       "  <thead>\n",
       "    <tr style=\"text-align: right;\">\n",
       "      <th></th>\n",
       "      <th>ComplexityScore</th>\n",
       "      <th>Mean</th>\n",
       "      <th>Std</th>\n",
       "      <th>BalanceScore</th>\n",
       "    </tr>\n",
       "    <tr>\n",
       "      <th>Distillery</th>\n",
       "      <th></th>\n",
       "      <th></th>\n",
       "      <th></th>\n",
       "      <th></th>\n",
       "    </tr>\n",
       "  </thead>\n",
       "  <tbody>\n",
       "    <tr>\n",
       "      <th>Aberfeldy</th>\n",
       "      <td>10</td>\n",
       "      <td>1.583333</td>\n",
       "      <td>0.792961</td>\n",
       "      <td>1.996734</td>\n",
       "    </tr>\n",
       "    <tr>\n",
       "      <th>Aberlour</th>\n",
       "      <td>10</td>\n",
       "      <td>2.166667</td>\n",
       "      <td>1.267304</td>\n",
       "      <td>1.709665</td>\n",
       "    </tr>\n",
       "    <tr>\n",
       "      <th>AnCnoc</th>\n",
       "      <td>8</td>\n",
       "      <td>1.416667</td>\n",
       "      <td>1.164500</td>\n",
       "      <td>1.216545</td>\n",
       "    </tr>\n",
       "    <tr>\n",
       "      <th>Ardbeg</th>\n",
       "      <td>8</td>\n",
       "      <td>1.583333</td>\n",
       "      <td>1.621354</td>\n",
       "      <td>0.976550</td>\n",
       "    </tr>\n",
       "    <tr>\n",
       "      <th>Ardmore</th>\n",
       "      <td>10</td>\n",
       "      <td>1.333333</td>\n",
       "      <td>0.887625</td>\n",
       "      <td>1.502135</td>\n",
       "    </tr>\n",
       "  </tbody>\n",
       "</table>\n",
       "</div>"
      ],
      "text/plain": [
       "            ComplexityScore      Mean       Std  BalanceScore\n",
       "Distillery                                                   \n",
       "Aberfeldy                10  1.583333  0.792961      1.996734\n",
       "Aberlour                 10  2.166667  1.267304      1.709665\n",
       "AnCnoc                    8  1.416667  1.164500      1.216545\n",
       "Ardbeg                    8  1.583333  1.621354      0.976550\n",
       "Ardmore                  10  1.333333  0.887625      1.502135"
      ]
     },
     "execution_count": 10,
     "metadata": {},
     "output_type": "execute_result"
    }
   ],
   "source": [
    "ratings.head()"
   ]
  },
  {
   "cell_type": "markdown",
   "metadata": {},
   "source": [
    "The complexity and balance scores must then be combined in such a way so as to create a single ranking of all scotches. I have chosen to keep the ranking scheme as simple as possible so to generate the final ranking of I sort all of the scotches in descending order first by complexity score, then by balance score. The scotches listed at the top of the resulting ranking are the \"best\" according to the complexity and balance criteria. \n",
    "\n",
    "Due to sorting by complexity first, this ranking scheme does permit a scotch with a lower balance score but higher complexity score to be ranked higher than one with a higher balance score but lower complexity score. I'm not sure if that's a feature or a bug of the scheme, but it is more intuitively appealing to me than the reverse situation. Complexity seems like a more fundamental property than balance, that is, a complex but less balanced whisky should be ranked higher than a balanced though relatively simple one."
   ]
  },
  {
   "cell_type": "code",
   "execution_count": 11,
   "metadata": {
    "collapsed": false
   },
   "outputs": [],
   "source": [
    "by_count_score = ratings.sort_values(by=['ComplexityScore', 'BalanceScore'], ascending=False).reset_index()\n",
    "by_score_count = ratings.sort_values(by=['BalanceScore', 'ComplexityScore'], ascending=False).reset_index()"
   ]
  },
  {
   "cell_type": "code",
   "execution_count": 12,
   "metadata": {
    "collapsed": false
   },
   "outputs": [
    {
     "data": {
      "image/png": "[encoded data removed]",
      "text/plain": [
       "<matplotlib.figure.Figure at 0x17effda0>"
      ]
     },
     "metadata": {},
     "output_type": "display_data"
    }
   ],
   "source": [
    "f, (ax1, ax2) = plt.subplots(1, 2, figsize=(15, 5))\n",
    "sns.barplot(x='BalanceScore', y='Distillery', data=by_count_score[:10],palette=\"Blues_r\", ax=ax1)\n",
    "ax1.set(title='Ranked by Complexity, then Balance', xlabel=\"Balance Score\", xlim=(0,2.5))\n",
    "\n",
    "sns.barplot(x='BalanceScore', y='Distillery', data=by_score_count[:10],palette=\"Blues_r\", ax=ax2)\n",
    "ax2.set(ylabel='', title='Ranked by Balance, then Complexity', xlabel=\"Balance Score\", xlim=(0,2.5))\n",
    "\n",
    "# Finalize the plot\n",
    "sns.despine(bottom=False, left=True)\n",
    "plt.tight_layout(h_pad=3)"
   ]
  },
  {
   "cell_type": "markdown",
   "metadata": {},
   "source": [
    "A question that came to mind as I was generating this ranking was, are the top scotches generally produced in a specific geographical area of Scotland?"
   ]
  },
  {
   "cell_type": "code",
   "execution_count": 15,
   "metadata": {
    "collapsed": false
   },
   "outputs": [],
   "source": [
    "map_data = by_count_score.head(top_scotches_to_map).merge(location, how='left', left_on='Distillery', right_index=True)"
   ]
  },
  {
   "cell_type": "code",
   "execution_count": 17,
   "metadata": {
    "collapsed": false
   },
   "outputs": [],
   "source": [
    "map_data.reset_index().loc[:,['FinalLat','FinalLong','Distillery']].to_csv('top_scotches.csv')"
   ]
  },
  {
   "cell_type": "markdown",
   "metadata": {},
   "source": [
    "What does map tell us?"
   ]
  },
  {
   "cell_type": "markdown",
   "metadata": {},
   "source": [
    "One weakness of this ranking scheme is that the correct order of sorting, that is, by complexity then balance, or vice versa, is not clear. And the order chosen does at least partially affect the results of the algorithm. Another option would be to somehow combine the complexity and balance scores into a single score, thus eliminating the issue all together."
   ]
  },
  {
   "cell_type": "markdown",
   "metadata": {},
   "source": [
    "so now that we have determined the best or ideal scotches that doesn't mean you will like them. that's preference based. and tasting ability.\n",
    "\n",
    "if ranking is not indicative of highest quality scotches, why might that be? essential component of flavor or something else missing? flavor classification is not? advertisment, quality is responsible for notierity of certain brands. our definition of \"best\" differs from how most judge whisky. for example, the smoky islay scotches won't be at the top of the list due to their extreme flavor profile, though interestingly the top ranked scotch is from islay, just not one of the smoky guys. notice this rating system is all about balance.\n",
    "\n",
    "now that we have a rating. we can potentially calculate the best value by taking into account price as well. divide by price?\n",
    "\n",
    "can also use this method for evaluating a variety of \"goods\", like a husband or wife, an apartment, etcetc\n"
   ]
  },
  {
   "cell_type": "markdown",
   "metadata": {},
   "source": [
    "use experts to describe characteristics of whisky but not determine rank. we are interested in a rating/ranking scheme, not a classification one.\n",
    "\n",
    "have characteristics concerning smell and taste, missing others? like visual ones?"
   ]
  },
  {
   "cell_type": "markdown",
   "metadata": {},
   "source": [
    "references: \n",
    "1. \"The Ideal Scotch\" by Thom Brooks in \"Whiskey and Philosophy\"\n",
    "2. http://whiskyanalysis.com/index.php/methodology-introduction/methodology-flavour-comparison/\n",
    "3. https://www.mathstat.strath.ac.uk/outreach/nessie/nessie_whisky.html- "
   ]
  }
 ],
 "metadata": {
  "kernelspec": {
   "display_name": "Python 2",
   "language": "python",
   "name": "python2"
  },
  "language_info": {
   "codemirror_mode": {
    "name": "ipython",
    "version": 2
   },
   "file_extension": ".py",
   "mimetype": "text/x-python",
   "name": "python",
   "nbconvert_exporter": "python",
   "pygments_lexer": "ipython2",
   "version": "2.7.11"
  }
 },
 "nbformat": 4,
 "nbformat_minor": 0
}
