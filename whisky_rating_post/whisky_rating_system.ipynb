{
 "cells": [
  {
   "cell_type": "markdown",
   "metadata": {},
   "source": [
    "In this post, I propose and implement a method of quality ranking scotches that attempts to remove as much as possible the preferences and tasting ability of raters from influencing the ultimate ranking results. First, I define the ranking method, then I implement it, generating a list of the \"best\" scotches."
   ]
  },
  {
   "cell_type": "markdown",
   "metadata": {},
   "source": [
    "#### Method"
   ]
  },
  {
   "cell_type": "markdown",
   "metadata": {},
   "source": [
    "To rank scotches, one first needs to specify a set of criteria by which to judge every scotch. Once those criteria are defined, the \"best\" scotches will be those that rank most highly according to the criteria. I propose complexity and balance as the essential criteria to judge scotch. (These criteria are based upon Brooks in Whisky and Philosophy.) \n",
    "\n",
    "Imagine the ideal or perfect scotch. According to one theory, that scotch would possess all the possible flavors that a scotch could possess. For example, it would be fruity, smoky, peaty, et cetera. A scotch that possesses a large number of the possible flavors that a scotch could posses is called complex or multidimensional. In additional, in the ideal scotch each of the flavors would be distinct, not muddled, and discernible. No small group of flavors would dominate all of the others. If a scotch possesses this quality, it is called balanced. So not only does the ideal scotch possess a large number of flavors, it possess them in right proportion to one another so that all are identifiable. \n",
    "\n",
    "The complex and balanced a scotch is, the more closely it approximates the ideal scotch and the higher it ranks according to this method."
   ]
  },
  {
   "cell_type": "markdown",
   "metadata": {},
   "source": [
    "#### Implementation"
   ]
  },
  {
   "cell_type": "code",
   "execution_count": 30,
   "metadata": {
    "collapsed": false
   },
   "outputs": [],
   "source": [
    "%matplotlib inline\n",
    "import pandas as pd\n",
    "import numpy as np\n",
    "import seaborn as sns\n",
    "import matplotlib.pyplot as plt\n",
    "sns.set_style('whitegrid')"
   ]
  },
  {
   "cell_type": "code",
   "execution_count": 2,
   "metadata": {
    "collapsed": true
   },
   "outputs": [],
   "source": [
    "file_name = 'whiskies_w_coords.csv'\n",
    "top_scotches_to_map = 5"
   ]
  },
  {
   "cell_type": "code",
   "execution_count": 3,
   "metadata": {
    "collapsed": false
   },
   "outputs": [],
   "source": [
    "data = pd.read_csv(file_name)\n",
    "to_rename = {\n",
    "    'whiskies.Latitude':'FinalLat',\n",
    "    'whiskies.Longitude':'FinalLong'\n",
    "}\n",
    "data = data.rename(columns=to_rename)\n",
    "data = data.set_index('Distillery')\n",
    "data = data.loc[:,'Body':]"
   ]
  },
  {
   "cell_type": "code",
   "execution_count": 34,
   "metadata": {
    "collapsed": false
   },
   "outputs": [],
   "source": [
    "flavors = data.loc[:, 'Body':'Floral']\n",
    "location = data.loc[:, 'FinalLat':]"
   ]
  },
  {
   "cell_type": "markdown",
   "metadata": {},
   "source": [
    "How can one actually implement this method of ranking scotches? Before I answer that question, I will describe the data are used as inputs to the method. The data, which can be sourced from this site [source], describe the range and intensity of flavors that are present in a given scotch. The data set has 12 columns; each one corresponding to a different flavor that may be present in scotch, for example sweetness, smoky, honey, or floral. Each row of the data set corresponds to a distillery, and each distillery is only represented by a single record. Each distillery is rated from 0 to 4 in each flavor category; 0 being low/no intensity to 5 being high intensity. You may ask, how is each distillery able to be represented by single record? The reason is that each distillery is rated based upon its most popular issuance. The 0 to 4 ratings were assigned initially by a small panel of experts, then passed around to various other members of the whisky industry for feedback. See [source] for more info on the data and the details of the original analysis, including clustering and principal component analysis, done with this data"
   ]
  },
  {
   "cell_type": "code",
   "execution_count": 35,
   "metadata": {
    "collapsed": false
   },
   "outputs": [
    {
     "data": {
      "text/html": [
       "<div>\n",
       "<table border=\"1\" class=\"dataframe\">\n",
       "  <thead>\n",
       "    <tr style=\"text-align: right;\">\n",
       "      <th></th>\n",
       "      <th>Body</th>\n",
       "      <th>Sweetness</th>\n",
       "      <th>Smoky</th>\n",
       "      <th>Medicinal</th>\n",
       "      <th>Tobacco</th>\n",
       "      <th>Honey</th>\n",
       "      <th>Spicy</th>\n",
       "      <th>Winey</th>\n",
       "      <th>Nutty</th>\n",
       "      <th>Malty</th>\n",
       "      <th>Fruity</th>\n",
       "      <th>Floral</th>\n",
       "    </tr>\n",
       "    <tr>\n",
       "      <th>Distillery</th>\n",
       "      <th></th>\n",
       "      <th></th>\n",
       "      <th></th>\n",
       "      <th></th>\n",
       "      <th></th>\n",
       "      <th></th>\n",
       "      <th></th>\n",
       "      <th></th>\n",
       "      <th></th>\n",
       "      <th></th>\n",
       "      <th></th>\n",
       "      <th></th>\n",
       "    </tr>\n",
       "  </thead>\n",
       "  <tbody>\n",
       "    <tr>\n",
       "      <th>Aberfeldy</th>\n",
       "      <td>2</td>\n",
       "      <td>2</td>\n",
       "      <td>2</td>\n",
       "      <td>0</td>\n",
       "      <td>0</td>\n",
       "      <td>2</td>\n",
       "      <td>1</td>\n",
       "      <td>2</td>\n",
       "      <td>2</td>\n",
       "      <td>2</td>\n",
       "      <td>2</td>\n",
       "      <td>2</td>\n",
       "    </tr>\n",
       "    <tr>\n",
       "      <th>Aberlour</th>\n",
       "      <td>3</td>\n",
       "      <td>3</td>\n",
       "      <td>1</td>\n",
       "      <td>0</td>\n",
       "      <td>0</td>\n",
       "      <td>4</td>\n",
       "      <td>3</td>\n",
       "      <td>2</td>\n",
       "      <td>2</td>\n",
       "      <td>3</td>\n",
       "      <td>3</td>\n",
       "      <td>2</td>\n",
       "    </tr>\n",
       "    <tr>\n",
       "      <th>AnCnoc</th>\n",
       "      <td>1</td>\n",
       "      <td>3</td>\n",
       "      <td>2</td>\n",
       "      <td>0</td>\n",
       "      <td>0</td>\n",
       "      <td>2</td>\n",
       "      <td>0</td>\n",
       "      <td>0</td>\n",
       "      <td>2</td>\n",
       "      <td>2</td>\n",
       "      <td>3</td>\n",
       "      <td>2</td>\n",
       "    </tr>\n",
       "    <tr>\n",
       "      <th>Ardbeg</th>\n",
       "      <td>4</td>\n",
       "      <td>1</td>\n",
       "      <td>4</td>\n",
       "      <td>4</td>\n",
       "      <td>0</td>\n",
       "      <td>0</td>\n",
       "      <td>2</td>\n",
       "      <td>0</td>\n",
       "      <td>1</td>\n",
       "      <td>2</td>\n",
       "      <td>1</td>\n",
       "      <td>0</td>\n",
       "    </tr>\n",
       "    <tr>\n",
       "      <th>Ardmore</th>\n",
       "      <td>2</td>\n",
       "      <td>2</td>\n",
       "      <td>2</td>\n",
       "      <td>0</td>\n",
       "      <td>0</td>\n",
       "      <td>1</td>\n",
       "      <td>1</td>\n",
       "      <td>1</td>\n",
       "      <td>2</td>\n",
       "      <td>3</td>\n",
       "      <td>1</td>\n",
       "      <td>1</td>\n",
       "    </tr>\n",
       "  </tbody>\n",
       "</table>\n",
       "</div>"
      ],
      "text/plain": [
       "            Body  Sweetness  Smoky  Medicinal  Tobacco  Honey  Spicy  Winey  \\\n",
       "Distillery                                                                    \n",
       "Aberfeldy      2          2      2          0        0      2      1      2   \n",
       "Aberlour       3          3      1          0        0      4      3      2   \n",
       "AnCnoc         1          3      2          0        0      2      0      0   \n",
       "Ardbeg         4          1      4          4        0      0      2      0   \n",
       "Ardmore        2          2      2          0        0      1      1      1   \n",
       "\n",
       "            Nutty  Malty  Fruity  Floral  \n",
       "Distillery                                \n",
       "Aberfeldy       2      2       2       2  \n",
       "Aberlour        2      3       3       2  \n",
       "AnCnoc          2      2       3       2  \n",
       "Ardbeg          1      2       1       0  \n",
       "Ardmore         2      3       1       1  "
      ]
     },
     "execution_count": 35,
     "metadata": {},
     "output_type": "execute_result"
    }
   ],
   "source": [
    "flavors.head()"
   ]
  },
  {
   "cell_type": "markdown",
   "metadata": {},
   "source": [
    "Batches vary. barrels vary. single malts are subject to variation. taste is not objective due to preference and tasting ability. though the ideal sctoch can be defined objectively? at least what \"best\" or \"ideal\" means\n",
    "\n",
    "so now that we have determined the best or ideal scotches that doesn't mean you will like them. that's preference based. and tasting ability.\n",
    "\n",
    "what are the properties of the rating system? mean? count? std?\n",
    "\n",
    "assuming intensity of flavor is a positive, but variance of intensity is not."
   ]
  },
  {
   "cell_type": "markdown",
   "metadata": {},
   "source": [
    "use experts to describe characteristics of whisky but not determine rank. we are interested in a rating/ranking scheme, not a classification one.\n",
    "\n",
    "have characteristics concerning smell and taste, missing others? like visual ones?\n",
    "\n",
    "enjoying/preferring a scotch is not the same as it being the best/ideal\n",
    "\n",
    "this rating scheme has a big negative. it doesn't require any tasting on my part."
   ]
  },
  {
   "cell_type": "markdown",
   "metadata": {},
   "source": [
    "#### Calculate individual scores and ranking"
   ]
  },
  {
   "cell_type": "markdown",
   "metadata": {},
   "source": [
    "two characteristics: 1) complex (count), 2) balance (mean/std). how to combine these two to get an unique ranking?"
   ]
  },
  {
   "cell_type": "markdown",
   "metadata": {},
   "source": [
    "what are the characteristics that I want in my rating system?\n",
    "-captures balance and complexity of final product, not a measure of preference.\n",
    "\n",
    "talk about the data set\n",
    "\n",
    "what does \"best\" mean? \"best\" means \"as close as possible to the ideal.\" So define what \"ideal\" is and judge the quality of a product by how close it approximated the ideal. Ideal = complex/multidimensional and balance. complex means has as many as of the possible flavors contained in the ideal scotch as possible. balance means that those flavors are all discernible and not dominated by a small subset of those flavors.\n",
    "\n",
    "1. capture complexity by counting the number of characteristics with non-zero intensity rating\n",
    "2. capture balance by calculating the mean flavor intensity divided by standard deviation of flavor intensities. using mean the idea is that a more intense flavor is better than a less intense one. using standard deviation, the idea being that a scotch with similar ratings across flavor categories is more balanced than one with more disparate flavor intensities. so \"idealness\" decreases as the standard deviation of flavor intensities increases. call this the \"score.\"\n",
    "\n",
    "then all scotches with available tasting notes are ranking scotches in descending order first by non-zero flavor count, then by score. the scotches at the top of the list are the \"best\" scotches in the sense of being closes to the \"ideal.\"\n",
    "\n",
    "this ranking does allow a scotch with a lower score but more non-zero flavors to be ranked higher than one a higher score but fewer non-zeros. is that a problem? better way to rank according to the two criterion?"
   ]
  },
  {
   "cell_type": "code",
   "execution_count": 6,
   "metadata": {
    "collapsed": false
   },
   "outputs": [],
   "source": [
    "flavors_count = flavors != 0\n",
    "ratings = pd.DataFrame()\n",
    "ratings['NonZeroFlavors'] = flavors_count.sum(axis=1)"
   ]
  },
  {
   "cell_type": "markdown",
   "metadata": {},
   "source": [
    "next calculate average rating per whisky and standard deviation of scores. higher mean is better. lower standard deviation is better since whisky is more balanced and no characteristic dominates its flavor profile."
   ]
  },
  {
   "cell_type": "code",
   "execution_count": 7,
   "metadata": {
    "collapsed": false
   },
   "outputs": [],
   "source": [
    "ratings['Mean'] = flavors.mean(axis=1)\n",
    "ratings['Std'] = flavors.std(axis=1)\n",
    "ratings['Score'] = ratings['Mean']/ratings['Std']"
   ]
  },
  {
   "cell_type": "code",
   "execution_count": 8,
   "metadata": {
    "collapsed": false
   },
   "outputs": [
    {
     "data": {
      "text/html": [
       "<div>\n",
       "<table border=\"1\" class=\"dataframe\">\n",
       "  <thead>\n",
       "    <tr style=\"text-align: right;\">\n",
       "      <th></th>\n",
       "      <th>NonZeroFlavors</th>\n",
       "      <th>Mean</th>\n",
       "      <th>Std</th>\n",
       "      <th>Score</th>\n",
       "    </tr>\n",
       "    <tr>\n",
       "      <th>Distillery</th>\n",
       "      <th></th>\n",
       "      <th></th>\n",
       "      <th></th>\n",
       "      <th></th>\n",
       "    </tr>\n",
       "  </thead>\n",
       "  <tbody>\n",
       "    <tr>\n",
       "      <th>Aberfeldy</th>\n",
       "      <td>10</td>\n",
       "      <td>1.583333</td>\n",
       "      <td>0.792961</td>\n",
       "      <td>1.996734</td>\n",
       "    </tr>\n",
       "    <tr>\n",
       "      <th>Aberlour</th>\n",
       "      <td>10</td>\n",
       "      <td>2.166667</td>\n",
       "      <td>1.267304</td>\n",
       "      <td>1.709665</td>\n",
       "    </tr>\n",
       "    <tr>\n",
       "      <th>AnCnoc</th>\n",
       "      <td>8</td>\n",
       "      <td>1.416667</td>\n",
       "      <td>1.164500</td>\n",
       "      <td>1.216545</td>\n",
       "    </tr>\n",
       "    <tr>\n",
       "      <th>Ardbeg</th>\n",
       "      <td>8</td>\n",
       "      <td>1.583333</td>\n",
       "      <td>1.621354</td>\n",
       "      <td>0.976550</td>\n",
       "    </tr>\n",
       "    <tr>\n",
       "      <th>Ardmore</th>\n",
       "      <td>10</td>\n",
       "      <td>1.333333</td>\n",
       "      <td>0.887625</td>\n",
       "      <td>1.502135</td>\n",
       "    </tr>\n",
       "  </tbody>\n",
       "</table>\n",
       "</div>"
      ],
      "text/plain": [
       "            NonZeroFlavors      Mean       Std     Score\n",
       "Distillery                                              \n",
       "Aberfeldy               10  1.583333  0.792961  1.996734\n",
       "Aberlour                10  2.166667  1.267304  1.709665\n",
       "AnCnoc                   8  1.416667  1.164500  1.216545\n",
       "Ardbeg                   8  1.583333  1.621354  0.976550\n",
       "Ardmore                 10  1.333333  0.887625  1.502135"
      ]
     },
     "execution_count": 8,
     "metadata": {},
     "output_type": "execute_result"
    }
   ],
   "source": [
    "ratings.head()"
   ]
  },
  {
   "cell_type": "code",
   "execution_count": 16,
   "metadata": {
    "collapsed": false
   },
   "outputs": [],
   "source": [
    "by_count_score = ratings.sort_values(by=['NonZeroFlavors', 'Score'], ascending=False).reset_index()\n",
    "by_score_count = ratings.sort_values(by=['Score', 'NonZeroFlavors'], ascending=False).reset_index()\n",
    "by_mean = ratings.sort_values(by='Mean', ascending=False).reset_index()\n",
    "by_std = ratings.sort_values(by='Std', ascending=False).reset_index()"
   ]
  },
  {
   "cell_type": "markdown",
   "metadata": {},
   "source": [
    "show by_mean, by_score, then by_score_count?"
   ]
  },
  {
   "cell_type": "code",
   "execution_count": 17,
   "metadata": {
    "collapsed": false
   },
   "outputs": [
    {
     "data": {
      "text/html": [
       "<div>\n",
       "<table border=\"1\" class=\"dataframe\">\n",
       "  <thead>\n",
       "    <tr style=\"text-align: right;\">\n",
       "      <th></th>\n",
       "      <th>Distillery</th>\n",
       "      <th>NonZeroFlavors</th>\n",
       "      <th>Mean</th>\n",
       "      <th>Std</th>\n",
       "      <th>Score</th>\n",
       "    </tr>\n",
       "  </thead>\n",
       "  <tbody>\n",
       "    <tr>\n",
       "      <th>0</th>\n",
       "      <td>Bruichladdich</td>\n",
       "      <td>11</td>\n",
       "      <td>1.583333</td>\n",
       "      <td>0.668558</td>\n",
       "      <td>2.368281</td>\n",
       "    </tr>\n",
       "    <tr>\n",
       "      <th>1</th>\n",
       "      <td>OldPulteney</td>\n",
       "      <td>11</td>\n",
       "      <td>1.500000</td>\n",
       "      <td>0.674200</td>\n",
       "      <td>2.224860</td>\n",
       "    </tr>\n",
       "    <tr>\n",
       "      <th>2</th>\n",
       "      <td>Scapa</td>\n",
       "      <td>11</td>\n",
       "      <td>1.500000</td>\n",
       "      <td>0.674200</td>\n",
       "      <td>2.224860</td>\n",
       "    </tr>\n",
       "    <tr>\n",
       "      <th>3</th>\n",
       "      <td>Bowmore</td>\n",
       "      <td>11</td>\n",
       "      <td>1.500000</td>\n",
       "      <td>0.797724</td>\n",
       "      <td>1.880350</td>\n",
       "    </tr>\n",
       "    <tr>\n",
       "      <th>4</th>\n",
       "      <td>OldFettercairn</td>\n",
       "      <td>11</td>\n",
       "      <td>1.500000</td>\n",
       "      <td>0.797724</td>\n",
       "      <td>1.880350</td>\n",
       "    </tr>\n",
       "    <tr>\n",
       "      <th>5</th>\n",
       "      <td>Dalmore</td>\n",
       "      <td>11</td>\n",
       "      <td>1.666667</td>\n",
       "      <td>0.887625</td>\n",
       "      <td>1.877669</td>\n",
       "    </tr>\n",
       "    <tr>\n",
       "      <th>6</th>\n",
       "      <td>RoyalBrackla</td>\n",
       "      <td>11</td>\n",
       "      <td>1.666667</td>\n",
       "      <td>0.887625</td>\n",
       "      <td>1.877669</td>\n",
       "    </tr>\n",
       "    <tr>\n",
       "      <th>7</th>\n",
       "      <td>Craigallechie</td>\n",
       "      <td>11</td>\n",
       "      <td>1.750000</td>\n",
       "      <td>0.965307</td>\n",
       "      <td>1.812894</td>\n",
       "    </tr>\n",
       "    <tr>\n",
       "      <th>8</th>\n",
       "      <td>Highland Park</td>\n",
       "      <td>11</td>\n",
       "      <td>1.416667</td>\n",
       "      <td>0.792961</td>\n",
       "      <td>1.786552</td>\n",
       "    </tr>\n",
       "    <tr>\n",
       "      <th>9</th>\n",
       "      <td>Bunnahabhain</td>\n",
       "      <td>11</td>\n",
       "      <td>1.333333</td>\n",
       "      <td>0.778499</td>\n",
       "      <td>1.712698</td>\n",
       "    </tr>\n",
       "  </tbody>\n",
       "</table>\n",
       "</div>"
      ],
      "text/plain": [
       "       Distillery  NonZeroFlavors      Mean       Std     Score\n",
       "0   Bruichladdich              11  1.583333  0.668558  2.368281\n",
       "1     OldPulteney              11  1.500000  0.674200  2.224860\n",
       "2           Scapa              11  1.500000  0.674200  2.224860\n",
       "3         Bowmore              11  1.500000  0.797724  1.880350\n",
       "4  OldFettercairn              11  1.500000  0.797724  1.880350\n",
       "5         Dalmore              11  1.666667  0.887625  1.877669\n",
       "6    RoyalBrackla              11  1.666667  0.887625  1.877669\n",
       "7   Craigallechie              11  1.750000  0.965307  1.812894\n",
       "8   Highland Park              11  1.416667  0.792961  1.786552\n",
       "9    Bunnahabhain              11  1.333333  0.778499  1.712698"
      ]
     },
     "execution_count": 17,
     "metadata": {},
     "output_type": "execute_result"
    }
   ],
   "source": [
    "by_count_score.head(10)"
   ]
  },
  {
   "cell_type": "markdown",
   "metadata": {},
   "source": [
    "not surprised the extreme scotches are ranked top by std since severaly dominated by a few flavor characteristics "
   ]
  },
  {
   "cell_type": "code",
   "execution_count": 33,
   "metadata": {
    "collapsed": false
   },
   "outputs": [
    {
     "data": {
      "image/png": "[encoded data removed]",
      "text/plain": [
       "<matplotlib.figure.Figure at 0x118c67190>"
      ]
     },
     "metadata": {},
     "output_type": "display_data"
    }
   ],
   "source": [
    "f, (ax1, ax2) = plt.subplots(1, 2, figsize=(15, 5))\n",
    "sns.barplot(x='Score', y='Distillery', data=by_count_score[:10],palette=\"Blues_r\", ax=ax1)\n",
    "ax1.set(title='Ranked by Count then Score', xlabel=\"Score\", xlim=(0,2.5))\n",
    "\n",
    "sns.barplot(x='Score', y='Distillery', data=by_score_count[:10],palette=\"Blues_r\", ax=ax2)\n",
    "ax2.set(ylabel='', title='Ranked By Score then Count', xlabel=\"Score\", xlim=(0,2.5))\n",
    "\n",
    "# Finalize the plot\n",
    "sns.despine(bottom=False, left=True)\n",
    "plt.tight_layout(h_pad=3)"
   ]
  },
  {
   "cell_type": "markdown",
   "metadata": {},
   "source": [
    "top ranked scotches mapped. are the top scotches confined to a specific geographic region?"
   ]
  },
  {
   "cell_type": "code",
   "execution_count": 19,
   "metadata": {
    "collapsed": false
   },
   "outputs": [],
   "source": [
    "map_data = by_count_score.head(top_scotches_to_map).merge(location, how='left', left_index=True, right_index=True)"
   ]
  },
  {
   "cell_type": "code",
   "execution_count": 20,
   "metadata": {
    "collapsed": false
   },
   "outputs": [],
   "source": [
    "map_data.reset_index().loc[:,['FinalLat','FinalLong','Distillery']].to_csv('top_whiskies.csv')"
   ]
  },
  {
   "cell_type": "markdown",
   "metadata": {},
   "source": [
    "if ranking is not indicative of highest quality scotches, why might that be? essential component of flavor or something else missing? flavor classification is not? advertisment, quality is responsible for notierity of certain brands. our definition of \"best\" differs from how most judge whisky. for example, the smoky islay scotches won't be at the top of the list due to their extreme flavor profile, though interestingly the top ranked scotch is from islay, just not one of the smoky guys. notice this rating system is all about balance.\n",
    "\n",
    "now that we have a rating. we can potentially calculate the best value by taking into account price as well. divide by price?\n",
    "\n",
    "can also use this method for evaluating a variety of \"goods\", like a husband or wife, an apartment, etcetc\n"
   ]
  },
  {
   "cell_type": "markdown",
   "metadata": {},
   "source": [
    "reference \n",
    "1. brooks\n",
    "2. http://whiskyanalysis.com/index.php/methodology-introduction/methodology-flavour-comparison/\n",
    "3. https://www.mathstat.strath.ac.uk/outreach/nessie/nessie_whisky.html- "
   ]
  }
 ],
 "metadata": {
  "kernelspec": {
   "display_name": "Python 2",
   "language": "python",
   "name": "python2"
  },
  "language_info": {
   "codemirror_mode": {
    "name": "ipython",
    "version": 2
   },
   "file_extension": ".py",
   "mimetype": "text/x-python",
   "name": "python",
   "nbconvert_exporter": "python",
   "pygments_lexer": "ipython2",
   "version": "2.7.11"
  }
 },
 "nbformat": 4,
 "nbformat_minor": 0
}
