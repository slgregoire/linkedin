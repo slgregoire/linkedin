{
 "cells": [
  {
   "cell_type": "markdown",
   "metadata": {},
   "source": [
    "In this post, I propose and implement a new method of ranking scotches. This method is simple to implement and generates a ranking that is much less influenced by the preferences of specific tasters than more typical ranking schemes. The method presented here is based upon my interpretation of Thom Brooks' article \"The Ideal Scotch\" in Whiskey and Philosophy. "
   ]
  },
  {
   "cell_type": "markdown",
   "metadata": {},
   "source": [
    "### Method"
   ]
  },
  {
   "cell_type": "markdown",
   "metadata": {},
   "source": [
    "To rank scotches, one first needs to specify a set of criteria by which to judge every scotch. Once those criteria are defined, the \"best\" scotches will be those that rank most highly according to the criteria. I propose complexity and balance as the essential criteria.\n",
    "\n",
    "How are complexity and balance defined? Imagine the ideal or perfect scotch. According to one theory, that scotch would possess all the possible flavors that a scotch could possess. For example, it would be fruity, smoky, peaty, et cetera. A scotch that possesses a large number of these possible flavors is called complex. Additionally in the ideal scotch, each of the flavors would be distinct and discernible. No small group of flavors would dominate all of the others. If a scotch possesses this quality, it is called balanced. So not only does the ideal scotch possess a large number of flavors, it possess them in the correct proportion relative to one another so that all are identifiable by a skilled taster. \n",
    "\n",
    "The more complex and balanced a scotch is, the more closely it approximates the ideal scotch and the higher it ranks according to this method."
   ]
  },
  {
   "cell_type": "markdown",
   "metadata": {},
   "source": [
    "### Implementation"
   ]
  },
  {
   "cell_type": "code",
   "execution_count": 1,
   "metadata": {
    "collapsed": false
   },
   "outputs": [],
   "source": [
    "%matplotlib inline\n",
    "import pandas as pd\n",
    "import seaborn as sns\n",
    "import matplotlib.pyplot as plt\n",
    "from IPython.display import display\n",
    "sns.set_style('white')\n",
    "sns.set_context(\"notebook\", font_scale=1.2)"
   ]
  },
  {
   "cell_type": "code",
   "execution_count": 2,
   "metadata": {
    "collapsed": true
   },
   "outputs": [],
   "source": [
    "file_name = 'whiskies_w_coords.csv'"
   ]
  },
  {
   "cell_type": "code",
   "execution_count": 3,
   "metadata": {
    "collapsed": false
   },
   "outputs": [],
   "source": [
    "data = pd.read_csv(file_name)\n",
    "to_rename = {\n",
    "    'whiskies.Latitude':'FinalLat',\n",
    "    'whiskies.Longitude':'FinalLong'\n",
    "}\n",
    "data = data.rename(columns=to_rename)\n",
    "data = data.set_index('Distillery')\n",
    "data = data.loc[:,'Body':]"
   ]
  },
  {
   "cell_type": "code",
   "execution_count": 4,
   "metadata": {
    "collapsed": false
   },
   "outputs": [],
   "source": [
    "flavors = data.loc[:, 'Body':'Floral']\n",
    "location = data.loc[:, 'FinalLat':]"
   ]
  },
  {
   "cell_type": "markdown",
   "metadata": {},
   "source": [
    "How can one actually implement this method of ranking scotches? Before I answer that question, I will describe the data that are used as inputs to this method. The data, which can be sourced from this site [source], describe the range and intensity of flavors that are present in a given scotch. The data set has 12 columns; each one corresponding to a different flavor that may be present in scotch, for example sweetness, smoky, honey, or floral. Each row of the data set corresponds to a distillery, and each distillery is represented by a single record. You may ask, how can each distillery be represented by single record? The reason is that each distillery is rated based upon its most popular product, not its full range of products.\n",
    "\n",
    "Every distillery is rated from 0 to 4 in each flavor category; 0 being low/no intensity, 4 being high intensity. The 0 to 4 ratings were assigned initially by a small panel of experts, then passed around to various other members of the whisky industry for feedback. See [source] for more info on the data and the details of the original analysis, including clustering and principal component analysis, performed with this data"
   ]
  },
  {
   "cell_type": "code",
   "execution_count": 5,
   "metadata": {
    "collapsed": false
   },
   "outputs": [
    {
     "data": {
      "text/html": [
       "<div>\n",
       "<table border=\"1\" class=\"dataframe\">\n",
       "  <thead>\n",
       "    <tr style=\"text-align: right;\">\n",
       "      <th></th>\n",
       "      <th>Body</th>\n",
       "      <th>Sweetness</th>\n",
       "      <th>Smoky</th>\n",
       "      <th>Medicinal</th>\n",
       "      <th>Tobacco</th>\n",
       "      <th>Honey</th>\n",
       "      <th>Spicy</th>\n",
       "      <th>Winey</th>\n",
       "      <th>Nutty</th>\n",
       "      <th>Malty</th>\n",
       "      <th>Fruity</th>\n",
       "      <th>Floral</th>\n",
       "    </tr>\n",
       "    <tr>\n",
       "      <th>Distillery</th>\n",
       "      <th></th>\n",
       "      <th></th>\n",
       "      <th></th>\n",
       "      <th></th>\n",
       "      <th></th>\n",
       "      <th></th>\n",
       "      <th></th>\n",
       "      <th></th>\n",
       "      <th></th>\n",
       "      <th></th>\n",
       "      <th></th>\n",
       "      <th></th>\n",
       "    </tr>\n",
       "  </thead>\n",
       "  <tbody>\n",
       "    <tr>\n",
       "      <th>Aberfeldy</th>\n",
       "      <td>2</td>\n",
       "      <td>2</td>\n",
       "      <td>2</td>\n",
       "      <td>0</td>\n",
       "      <td>0</td>\n",
       "      <td>2</td>\n",
       "      <td>1</td>\n",
       "      <td>2</td>\n",
       "      <td>2</td>\n",
       "      <td>2</td>\n",
       "      <td>2</td>\n",
       "      <td>2</td>\n",
       "    </tr>\n",
       "    <tr>\n",
       "      <th>Aberlour</th>\n",
       "      <td>3</td>\n",
       "      <td>3</td>\n",
       "      <td>1</td>\n",
       "      <td>0</td>\n",
       "      <td>0</td>\n",
       "      <td>4</td>\n",
       "      <td>3</td>\n",
       "      <td>2</td>\n",
       "      <td>2</td>\n",
       "      <td>3</td>\n",
       "      <td>3</td>\n",
       "      <td>2</td>\n",
       "    </tr>\n",
       "    <tr>\n",
       "      <th>AnCnoc</th>\n",
       "      <td>1</td>\n",
       "      <td>3</td>\n",
       "      <td>2</td>\n",
       "      <td>0</td>\n",
       "      <td>0</td>\n",
       "      <td>2</td>\n",
       "      <td>0</td>\n",
       "      <td>0</td>\n",
       "      <td>2</td>\n",
       "      <td>2</td>\n",
       "      <td>3</td>\n",
       "      <td>2</td>\n",
       "    </tr>\n",
       "    <tr>\n",
       "      <th>Ardbeg</th>\n",
       "      <td>4</td>\n",
       "      <td>1</td>\n",
       "      <td>4</td>\n",
       "      <td>4</td>\n",
       "      <td>0</td>\n",
       "      <td>0</td>\n",
       "      <td>2</td>\n",
       "      <td>0</td>\n",
       "      <td>1</td>\n",
       "      <td>2</td>\n",
       "      <td>1</td>\n",
       "      <td>0</td>\n",
       "    </tr>\n",
       "    <tr>\n",
       "      <th>Ardmore</th>\n",
       "      <td>2</td>\n",
       "      <td>2</td>\n",
       "      <td>2</td>\n",
       "      <td>0</td>\n",
       "      <td>0</td>\n",
       "      <td>1</td>\n",
       "      <td>1</td>\n",
       "      <td>1</td>\n",
       "      <td>2</td>\n",
       "      <td>3</td>\n",
       "      <td>1</td>\n",
       "      <td>1</td>\n",
       "    </tr>\n",
       "  </tbody>\n",
       "</table>\n",
       "</div>"
      ],
      "text/plain": [
       "            Body  Sweetness  Smoky  Medicinal  Tobacco  Honey  Spicy  Winey  \\\n",
       "Distillery                                                                    \n",
       "Aberfeldy      2          2      2          0        0      2      1      2   \n",
       "Aberlour       3          3      1          0        0      4      3      2   \n",
       "AnCnoc         1          3      2          0        0      2      0      0   \n",
       "Ardbeg         4          1      4          4        0      0      2      0   \n",
       "Ardmore        2          2      2          0        0      1      1      1   \n",
       "\n",
       "            Nutty  Malty  Fruity  Floral  \n",
       "Distillery                                \n",
       "Aberfeldy       2      2       2       2  \n",
       "Aberlour        2      3       3       2  \n",
       "AnCnoc          2      2       3       2  \n",
       "Ardbeg          1      2       1       0  \n",
       "Ardmore         2      3       1       1  "
      ]
     },
     "execution_count": 5,
     "metadata": {},
     "output_type": "execute_result"
    }
   ],
   "source": [
    "flavors.head()"
   ]
  },
  {
   "cell_type": "code",
   "execution_count": 6,
   "metadata": {
    "collapsed": false
   },
   "outputs": [
    {
     "data": {
      "text/html": [
       "<div>\n",
       "<table border=\"1\" class=\"dataframe\">\n",
       "  <thead>\n",
       "    <tr style=\"text-align: right;\">\n",
       "      <th></th>\n",
       "      <th>FinalLat</th>\n",
       "      <th>FinalLong</th>\n",
       "    </tr>\n",
       "    <tr>\n",
       "      <th>Distillery</th>\n",
       "      <th></th>\n",
       "      <th></th>\n",
       "    </tr>\n",
       "  </thead>\n",
       "  <tbody>\n",
       "    <tr>\n",
       "      <th>Aberfeldy</th>\n",
       "      <td>-3.850199</td>\n",
       "      <td>56.625191</td>\n",
       "    </tr>\n",
       "    <tr>\n",
       "      <th>Aberlour</th>\n",
       "      <td>-3.229644</td>\n",
       "      <td>57.467395</td>\n",
       "    </tr>\n",
       "    <tr>\n",
       "      <th>AnCnoc</th>\n",
       "      <td>-2.785295</td>\n",
       "      <td>57.441751</td>\n",
       "    </tr>\n",
       "    <tr>\n",
       "      <th>Ardbeg</th>\n",
       "      <td>-6.108503</td>\n",
       "      <td>55.640607</td>\n",
       "    </tr>\n",
       "    <tr>\n",
       "      <th>Ardmore</th>\n",
       "      <td>-2.743629</td>\n",
       "      <td>57.350557</td>\n",
       "    </tr>\n",
       "  </tbody>\n",
       "</table>\n",
       "</div>"
      ],
      "text/plain": [
       "            FinalLat  FinalLong\n",
       "Distillery                     \n",
       "Aberfeldy  -3.850199  56.625191\n",
       "Aberlour   -3.229644  57.467395\n",
       "AnCnoc     -2.785295  57.441751\n",
       "Ardbeg     -6.108503  55.640607\n",
       "Ardmore    -2.743629  57.350557"
      ]
     },
     "execution_count": 6,
     "metadata": {},
     "output_type": "execute_result"
    }
   ],
   "source": [
    "location.head()"
   ]
  },
  {
   "cell_type": "markdown",
   "metadata": {},
   "source": [
    "Using the data described above, one can calculate quantitatve measures of both complexity and balance for each scotch and then rank the scotches based upon these measures. Complexity is calculated by counting the number of flavors present in the whisky, that is, by counting the categories with a non-zero intensity rating. This count is referrred to as the \"complexity score.\" \n",
    "\n",
    "Balance is calculated by dividing the mean flavor intensity by the standard deviation of all flavor intensities. This value is referred to the \"balance score.\" As mean intensity increases, so does the balance score. This relationship is meant to express the idea that a more intense flavor overall is preferable to a less intense one. As the standard deviation of intensity increases, the balance scores decreases. This inverse relationship is meant to express the idea that a scotch with similar intensities across flavor categories is preferable to one with more disparate flavor intensities. In summary, \"balance\" increases as mean flavor intensity increases and decreases as the standard deviation of flavor intensities increases."
   ]
  },
  {
   "cell_type": "markdown",
   "metadata": {},
   "source": [
    "#### Calculate the \"complexity\" score."
   ]
  },
  {
   "cell_type": "code",
   "execution_count": 7,
   "metadata": {
    "collapsed": false
   },
   "outputs": [],
   "source": [
    "flavors_count = flavors != 0\n",
    "ratings = pd.DataFrame()\n",
    "ratings['Complexity'] = flavors_count.sum(axis=1)"
   ]
  },
  {
   "cell_type": "markdown",
   "metadata": {},
   "source": [
    "#### Calculate the \"balance\" score."
   ]
  },
  {
   "cell_type": "code",
   "execution_count": 8,
   "metadata": {
    "collapsed": false
   },
   "outputs": [],
   "source": [
    "flavors_mean = flavors.mean(axis=1)\n",
    "flavors_std = flavors.std(axis=1)\n",
    "ratings['Balance'] = flavors_mean/flavors_std"
   ]
  },
  {
   "cell_type": "code",
   "execution_count": 9,
   "metadata": {
    "collapsed": false
   },
   "outputs": [
    {
     "data": {
      "text/html": [
       "<div>\n",
       "<table border=\"1\" class=\"dataframe\">\n",
       "  <thead>\n",
       "    <tr style=\"text-align: right;\">\n",
       "      <th></th>\n",
       "      <th>Complexity</th>\n",
       "      <th>Balance</th>\n",
       "    </tr>\n",
       "    <tr>\n",
       "      <th>Distillery</th>\n",
       "      <th></th>\n",
       "      <th></th>\n",
       "    </tr>\n",
       "  </thead>\n",
       "  <tbody>\n",
       "    <tr>\n",
       "      <th>Aberfeldy</th>\n",
       "      <td>10</td>\n",
       "      <td>1.996734</td>\n",
       "    </tr>\n",
       "    <tr>\n",
       "      <th>Aberlour</th>\n",
       "      <td>10</td>\n",
       "      <td>1.709665</td>\n",
       "    </tr>\n",
       "    <tr>\n",
       "      <th>AnCnoc</th>\n",
       "      <td>8</td>\n",
       "      <td>1.216545</td>\n",
       "    </tr>\n",
       "    <tr>\n",
       "      <th>Ardbeg</th>\n",
       "      <td>8</td>\n",
       "      <td>0.976550</td>\n",
       "    </tr>\n",
       "    <tr>\n",
       "      <th>Ardmore</th>\n",
       "      <td>10</td>\n",
       "      <td>1.502135</td>\n",
       "    </tr>\n",
       "  </tbody>\n",
       "</table>\n",
       "</div>"
      ],
      "text/plain": [
       "            Complexity   Balance\n",
       "Distillery                      \n",
       "Aberfeldy           10  1.996734\n",
       "Aberlour            10  1.709665\n",
       "AnCnoc               8  1.216545\n",
       "Ardbeg               8  0.976550\n",
       "Ardmore             10  1.502135"
      ]
     },
     "execution_count": 9,
     "metadata": {},
     "output_type": "execute_result"
    }
   ],
   "source": [
    "ratings.head()"
   ]
  },
  {
   "cell_type": "markdown",
   "metadata": {},
   "source": [
    "The complexity and balance scores must then be used in such a way so as to create a single ranking of all scotches. Without combining the two scores into a single metric, there are two ways to use these two scores to create a single ranking: either sort the whiskied by complexity first, then balance; or by balance first, then complexity. There is a large degree of overlap between the resulting two rankings; seven of the top ten whiskies are the same irrelevant of which order the sorting is performed. "
   ]
  },
  {
   "cell_type": "code",
   "execution_count": 10,
   "metadata": {
    "collapsed": false
   },
   "outputs": [],
   "source": [
    "ratings = ratings.reset_index()\n",
    "\n",
    "by_count_score = ratings.sort_values(by=['Complexity', 'Balance'], ascending=False)\n",
    "by_count_score = by_count_score.reset_index(drop=True)\n",
    "by_count_score['ComplexityThenBalanceRank'] = by_count_score.reset_index()['index'] + 1\n",
    "\n",
    "by_score_count = ratings.sort_values(by=['Balance', 'Complexity'], ascending=False)\n",
    "by_score_count = by_score_count.reset_index(drop=True)\n",
    "by_score_count['BalanceThenComplexityRank'] = by_score_count.reset_index()['index'] + 1"
   ]
  },
  {
   "cell_type": "code",
   "execution_count": 11,
   "metadata": {
    "collapsed": false
   },
   "outputs": [],
   "source": [
    "ratings['Category'] = ''\n",
    "\n",
    "best_scotches_intersection = set(by_score_count['Distillery'].head(10)).intersection(by_count_score['Distillery'].head(10))\n",
    "best_scotches_union = set(by_score_count['Distillery'].head(10)).union(by_count_score['Distillery'].head(10))\n",
    "\n",
    "ratings.loc[ratings.loc[:, 'Distillery'].isin(best_scotches_intersection), 'Category'] = 'Best in Both'\n",
    "\n",
    "top_in_one_mask = ratings.loc[:, 'Distillery'].isin(best_scotches_union) & ~ratings.loc[:, 'Distillery'].isin(best_scotches_intersection)\n",
    "ratings.loc[top_in_one_mask, 'Category'] = 'Best in One'"
   ]
  },
  {
   "cell_type": "code",
   "execution_count": 12,
   "metadata": {
    "collapsed": true
   },
   "outputs": [],
   "source": [
    "popular_scotches = ['Macallan', 'Glenlivet', 'Glenfiddich', 'Glenmorangie', 'Laphroig']\n",
    "ratings.loc[ratings.loc[:, 'Distillery'].isin(popular_scotches), 'Category'] = 'Popular'"
   ]
  },
  {
   "cell_type": "code",
   "execution_count": 13,
   "metadata": {
    "collapsed": false
   },
   "outputs": [],
   "source": [
    "ratings_table = ratings.merge(by_count_score[['Distillery', 'ComplexityThenBalanceRank']], how='inner', on='Distillery')\n",
    "ratings_table = ratings_table.merge(by_score_count[['Distillery', 'BalanceThenComplexityRank']], how='inner', on='Distillery')\n",
    "ratings_table[['Distillery', 'ComplexityThenBalanceRank', 'BalanceThenComplexityRank', 'Complexity', 'Balance', 'Category']].sort_values(by='ComplexityThenBalanceRank').to_csv('top_scotch_table.csv', index=False)"
   ]
  },
  {
   "cell_type": "markdown",
   "metadata": {},
   "source": [
    "The graph below plots the balance and complexity scores for all whiskies contained in the data set. The table lists the whiskies that rank in the top ten for both sorting orders. The whiskies labeled \"Best in Both\" are ranked in the top ten for both sorting orders; the whiskies labeled \"Best in One\" are ranked in the top ten in only one of the sorting orders. Notice that Bruichladdich, Old Pulteney, and Scapa are unambiguously the top three scotches."
   ]
  },
  {
   "cell_type": "markdown",
   "metadata": {},
   "source": [
    "For the sake of comparison, I have colored blue the points that correspond to the scores for five of the most well-known scotches. Glenfiddich is the left-most blue point; it is in fact the lowest ranked scotch of any in the data set. Moving right, the next blue point is Laphroaig. Notice that Laphroaig's balance scores is one of the lowest; that is due to the fact that smoke dominates the whisky flavor. The final three blue dots from top to bottom are Glenmorangie, Glenlivet, and Macallan. Thus according to this ranking scheme, your best option of commonly available scotches is Glenmorangie."
   ]
  },
  {
   "cell_type": "code",
   "execution_count": 19,
   "metadata": {
    "collapsed": false
   },
   "outputs": [
    {
     "data": {
      "text/plain": [
       "<matplotlib.legend.Legend at 0x116fea2d0>"
      ]
     },
     "execution_count": 19,
     "metadata": {},
     "output_type": "execute_result"
    },
    {
     "data": {
      "image/png": "[encoded data removed]",
      "text/plain": [
       "<matplotlib.figure.Figure at 0x104062450>"
      ]
     },
     "metadata": {},
     "output_type": "display_data"
    }
   ],
   "source": [
    "hue_mapping = {\n",
    "    '': 'lightgrey',\n",
    "    'Best in One': 'lightgreen',\n",
    "    'Best in Both': 'green',\n",
    "    'Popular': 'blue'\n",
    "}\n",
    "g = sns.swarmplot(y='Balance', x='Complexity', hue='Category', palette=hue_mapping, data=ratings)\n",
    "g.set(xticklabels=[], yticklabels=[], title='A Ranking of Scotches')\n",
    "sns.despine(bottom=False, left=False)\n",
    "plt.legend(loc='lower right')"
   ]
  },
  {
   "cell_type": "markdown",
   "metadata": {},
   "source": [
    "A question that comes to mind is, are the top scotches generally produced in a specific geographical area of Scotland? The graph below plots the locations of the distilleries that produce the top scotches carried in both rankings. Interestingly, two of the top scotches (Bruichladdich and Bowmore) are produced by distilleries located on the island of Islay, which is generally known for very unbalanced, smokey scotches. Also, three of the top scotches are produced by distilleries located on islands off the coast of Scotland. Is there some reason to believe that a higher quality is more likely to be produced at a distillery located on an island?"
   ]
  },
  {
   "cell_type": "code",
   "execution_count": 16,
   "metadata": {
    "collapsed": false
   },
   "outputs": [],
   "source": [
    "map_data = ratings[ratings['Category'] == 'Best in Both'].merge(location, how='left', left_on='Distillery', right_index=True)"
   ]
  },
  {
   "cell_type": "code",
   "execution_count": 17,
   "metadata": {
    "collapsed": false
   },
   "outputs": [],
   "source": [
    "map_data.reset_index().loc[:,['FinalLat','FinalLong','Distillery']].to_csv('top_scotches_map.csv')"
   ]
  },
  {
   "cell_type": "markdown",
   "metadata": {},
   "source": [
    "This method of ranking the quality of scotches, though not without its weaknesses, has some important strengths. Among them are its simplicity and the fact that it removes much of the variation in ratings due to individual taster preferences. As such, it is an interesting complement to more traditional rating methods.\n",
    "\n",
    "What is your opinion of this ranking method? Leave your thoughts in the comments. "
   ]
  },
  {
   "cell_type": "markdown",
   "metadata": {},
   "source": [
    "references: \n",
    "1. \"The Ideal Scotch\" by Thom Brooks in \"Whiskey and Philosophy\"\n",
    "2. http://whiskyanalysis.com/index.php/methodology-introduction/methodology-flavour-comparison/\n",
    "3. https://www.mathstat.strath.ac.uk/outreach/nessie/nessie_whisky.html- "
   ]
  }
 ],
 "metadata": {
  "kernelspec": {
   "display_name": "Python 2",
   "language": "python",
   "name": "python2"
  },
  "language_info": {
   "codemirror_mode": {
    "name": "ipython",
    "version": 2
   },
   "file_extension": ".py",
   "mimetype": "text/x-python",
   "name": "python",
   "nbconvert_exporter": "python",
   "pygments_lexer": "ipython2",
   "version": "2.7.11"
  }
 },
 "nbformat": 4,
 "nbformat_minor": 0
}
