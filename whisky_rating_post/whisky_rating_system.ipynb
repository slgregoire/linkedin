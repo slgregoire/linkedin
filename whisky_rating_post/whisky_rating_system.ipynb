{
 "cells": [
  {
   "cell_type": "markdown",
   "metadata": {},
   "source": [
    "reference \n",
    "1. brooks\n",
    "2. http://whiskyanalysis.com/index.php/methodology-introduction/methodology-flavour-comparison/\n",
    "3. https://www.mathstat.strath.ac.uk/outreach/nessie/nessie_whisky.html- "
   ]
  },
  {
   "cell_type": "markdown",
   "metadata": {},
   "source": [
    "### Introduction"
   ]
  },
  {
   "cell_type": "markdown",
   "metadata": {},
   "source": [
    "philosophical discussion based upon philosophy and whisky. \n",
    "\n",
    "does this method make sense? comments from readers?\n",
    "\n",
    "now that we have a rating. we can potentially calculate the best value by taking into account price as well. divide by price?\n",
    "\n",
    "can also use this method for evaluating a variety of \"goods\", like a husband or wife, an apartment, etcetc\n",
    "\n",
    "assuming all these characteristics are positives. if a negative, then 0 and 5 scale should be reversed. how data is compiled? the rating associated with each distillery is for their flagship release. doesn't capture the full range of products released by a distillery. read about rating at 2 above"
   ]
  },
  {
   "cell_type": "markdown",
   "metadata": {},
   "source": [
    "define what it is for an instance of something to be \"best\". hegel - whisky and philosophy"
   ]
  },
  {
   "cell_type": "markdown",
   "metadata": {},
   "source": [
    "two characteristics: 1) complex (count), 2) balance (mean/std). how to combine these two to get an unique ranking?"
   ]
  },
  {
   "cell_type": "markdown",
   "metadata": {},
   "source": [
    "use experts to describe characteristics of whisky but not determine rank. we are interested in a rating/ranking scheme, not a classification one.\n",
    "\n",
    "have characteristics concerning smell and taste, missing others? like visual ones?\n",
    "\n",
    "enjoying/preferring a scotch is not the same as it being the best/ideal\n",
    "\n",
    "this rating scheme has a big negative. it doesn't require any tasting on my part."
   ]
  },
  {
   "cell_type": "markdown",
   "metadata": {},
   "source": [
    "Batches vary. barrels vary. single malts are subject to variation. taste is not objective due to preference and tasting ability. though the ideal sctoch can be defined objectively? at least what \"best\" or \"ideal\" means\n",
    "\n",
    "so now that we have determined the best or ideal scotches that doesn't mean you will like them. that's preference based. and tasting ability.\n",
    "\n",
    "what are the properties of the rating system? mean? count? std?\n",
    "\n",
    "assuming intensity of flavor is a positive, but variance of intensity is not."
   ]
  },
  {
   "cell_type": "markdown",
   "metadata": {},
   "source": [
    "### Theory"
   ]
  },
  {
   "cell_type": "markdown",
   "metadata": {},
   "source": [
    "### Calculations"
   ]
  },
  {
   "cell_type": "markdown",
   "metadata": {},
   "source": [
    "#### Import Data"
   ]
  },
  {
   "cell_type": "code",
   "execution_count": 23,
   "metadata": {
    "collapsed": false
   },
   "outputs": [],
   "source": [
    "%matplotlib inline\n",
    "import pandas as pd\n",
    "import numpy as np"
   ]
  },
  {
   "cell_type": "code",
   "execution_count": 24,
   "metadata": {
    "collapsed": true
   },
   "outputs": [],
   "source": [
    "file_name = 'whiskies_w_coords.csv'\n",
    "top_scotches_to_map = 5"
   ]
  },
  {
   "cell_type": "code",
   "execution_count": 25,
   "metadata": {
    "collapsed": false
   },
   "outputs": [],
   "source": [
    "data = pd.read_csv(file_name)"
   ]
  },
  {
   "cell_type": "markdown",
   "metadata": {},
   "source": [
    "#### Process Data"
   ]
  },
  {
   "cell_type": "code",
   "execution_count": 26,
   "metadata": {
    "collapsed": false
   },
   "outputs": [
    {
     "data": {
      "text/html": [
       "<div>\n",
       "<table border=\"1\" class=\"dataframe\">\n",
       "  <thead>\n",
       "    <tr style=\"text-align: right;\">\n",
       "      <th></th>\n",
       "      <th>Unnamed: 0</th>\n",
       "      <th>RowID</th>\n",
       "      <th>Distillery</th>\n",
       "      <th>Body</th>\n",
       "      <th>Sweetness</th>\n",
       "      <th>Smoky</th>\n",
       "      <th>Medicinal</th>\n",
       "      <th>Tobacco</th>\n",
       "      <th>Honey</th>\n",
       "      <th>Spicy</th>\n",
       "      <th>Winey</th>\n",
       "      <th>Nutty</th>\n",
       "      <th>Malty</th>\n",
       "      <th>Fruity</th>\n",
       "      <th>Floral</th>\n",
       "      <th>Postcode</th>\n",
       "      <th>Latitude</th>\n",
       "      <th>Longitude</th>\n",
       "      <th>FinalLat</th>\n",
       "      <th>FinalLong</th>\n",
       "    </tr>\n",
       "  </thead>\n",
       "  <tbody>\n",
       "    <tr>\n",
       "      <th>0</th>\n",
       "      <td>1</td>\n",
       "      <td>1</td>\n",
       "      <td>Aberfeldy</td>\n",
       "      <td>2</td>\n",
       "      <td>2</td>\n",
       "      <td>2</td>\n",
       "      <td>0</td>\n",
       "      <td>0</td>\n",
       "      <td>2</td>\n",
       "      <td>1</td>\n",
       "      <td>2</td>\n",
       "      <td>2</td>\n",
       "      <td>2</td>\n",
       "      <td>2</td>\n",
       "      <td>2</td>\n",
       "      <td>\\tPH15 2EB</td>\n",
       "      <td>286580</td>\n",
       "      <td>749680</td>\n",
       "      <td>-3.850199</td>\n",
       "      <td>56.625191</td>\n",
       "    </tr>\n",
       "    <tr>\n",
       "      <th>1</th>\n",
       "      <td>2</td>\n",
       "      <td>2</td>\n",
       "      <td>Aberlour</td>\n",
       "      <td>3</td>\n",
       "      <td>3</td>\n",
       "      <td>1</td>\n",
       "      <td>0</td>\n",
       "      <td>0</td>\n",
       "      <td>4</td>\n",
       "      <td>3</td>\n",
       "      <td>2</td>\n",
       "      <td>2</td>\n",
       "      <td>3</td>\n",
       "      <td>3</td>\n",
       "      <td>2</td>\n",
       "      <td>\\tAB38 9PJ</td>\n",
       "      <td>326340</td>\n",
       "      <td>842570</td>\n",
       "      <td>-3.229644</td>\n",
       "      <td>57.467395</td>\n",
       "    </tr>\n",
       "    <tr>\n",
       "      <th>2</th>\n",
       "      <td>3</td>\n",
       "      <td>3</td>\n",
       "      <td>AnCnoc</td>\n",
       "      <td>1</td>\n",
       "      <td>3</td>\n",
       "      <td>2</td>\n",
       "      <td>0</td>\n",
       "      <td>0</td>\n",
       "      <td>2</td>\n",
       "      <td>0</td>\n",
       "      <td>0</td>\n",
       "      <td>2</td>\n",
       "      <td>2</td>\n",
       "      <td>3</td>\n",
       "      <td>2</td>\n",
       "      <td>\\tAB5 5LI</td>\n",
       "      <td>352960</td>\n",
       "      <td>839320</td>\n",
       "      <td>-2.785295</td>\n",
       "      <td>57.441751</td>\n",
       "    </tr>\n",
       "    <tr>\n",
       "      <th>3</th>\n",
       "      <td>4</td>\n",
       "      <td>4</td>\n",
       "      <td>Ardbeg</td>\n",
       "      <td>4</td>\n",
       "      <td>1</td>\n",
       "      <td>4</td>\n",
       "      <td>4</td>\n",
       "      <td>0</td>\n",
       "      <td>0</td>\n",
       "      <td>2</td>\n",
       "      <td>0</td>\n",
       "      <td>1</td>\n",
       "      <td>2</td>\n",
       "      <td>1</td>\n",
       "      <td>0</td>\n",
       "      <td>\\tPA42 7EB</td>\n",
       "      <td>141560</td>\n",
       "      <td>646220</td>\n",
       "      <td>-6.108503</td>\n",
       "      <td>55.640607</td>\n",
       "    </tr>\n",
       "    <tr>\n",
       "      <th>4</th>\n",
       "      <td>5</td>\n",
       "      <td>5</td>\n",
       "      <td>Ardmore</td>\n",
       "      <td>2</td>\n",
       "      <td>2</td>\n",
       "      <td>2</td>\n",
       "      <td>0</td>\n",
       "      <td>0</td>\n",
       "      <td>1</td>\n",
       "      <td>1</td>\n",
       "      <td>1</td>\n",
       "      <td>2</td>\n",
       "      <td>3</td>\n",
       "      <td>1</td>\n",
       "      <td>1</td>\n",
       "      <td>\\tAB54 4NH</td>\n",
       "      <td>355350</td>\n",
       "      <td>829140</td>\n",
       "      <td>-2.743629</td>\n",
       "      <td>57.350557</td>\n",
       "    </tr>\n",
       "  </tbody>\n",
       "</table>\n",
       "</div>"
      ],
      "text/plain": [
       "   Unnamed: 0  RowID Distillery  Body  Sweetness  Smoky  Medicinal  Tobacco  \\\n",
       "0           1      1  Aberfeldy     2          2      2          0        0   \n",
       "1           2      2   Aberlour     3          3      1          0        0   \n",
       "2           3      3     AnCnoc     1          3      2          0        0   \n",
       "3           4      4     Ardbeg     4          1      4          4        0   \n",
       "4           5      5    Ardmore     2          2      2          0        0   \n",
       "\n",
       "   Honey  Spicy  Winey  Nutty  Malty  Fruity  Floral     Postcode  Latitude  \\\n",
       "0      2      1      2      2      2       2       2   \\tPH15 2EB    286580   \n",
       "1      4      3      2      2      3       3       2   \\tAB38 9PJ    326340   \n",
       "2      2      0      0      2      2       3       2    \\tAB5 5LI    352960   \n",
       "3      0      2      0      1      2       1       0   \\tPA42 7EB    141560   \n",
       "4      1      1      1      2      3       1       1   \\tAB54 4NH    355350   \n",
       "\n",
       "   Longitude  FinalLat  FinalLong  \n",
       "0     749680 -3.850199  56.625191  \n",
       "1     842570 -3.229644  57.467395  \n",
       "2     839320 -2.785295  57.441751  \n",
       "3     646220 -6.108503  55.640607  \n",
       "4     829140 -2.743629  57.350557  "
      ]
     },
     "execution_count": 26,
     "metadata": {},
     "output_type": "execute_result"
    }
   ],
   "source": [
    "to_rename = {\n",
    "    'whiskies.Latitude':'FinalLat',\n",
    "    'whiskies.Longitude':'FinalLong'\n",
    "}\n",
    "data = data.rename(columns=to_rename)\n",
    "data.head()"
   ]
  },
  {
   "cell_type": "markdown",
   "metadata": {},
   "source": [
    "Break data set into two pieces: one piece that contains the tasting notes, and one piece that contains the location information"
   ]
  },
  {
   "cell_type": "code",
   "execution_count": 27,
   "metadata": {
    "collapsed": false
   },
   "outputs": [],
   "source": [
    "data = data.set_index('Distillery')\n",
    "data = data.loc[:,'Body':]"
   ]
  },
  {
   "cell_type": "code",
   "execution_count": 30,
   "metadata": {
    "collapsed": false
   },
   "outputs": [],
   "source": [
    "flavors = data.loc[:, 'Body':'Floral']\n",
    "location = data.loc[:, 'FinalLat':]"
   ]
  },
  {
   "cell_type": "markdown",
   "metadata": {},
   "source": [
    "#### Calculate individual scores and ranking"
   ]
  },
  {
   "cell_type": "markdown",
   "metadata": {},
   "source": [
    "first calculate the number of characteristics with non-zero intensity rating"
   ]
  },
  {
   "cell_type": "code",
   "execution_count": 31,
   "metadata": {
    "collapsed": false
   },
   "outputs": [],
   "source": [
    "flavors_count = flavors != 0\n",
    "ratings = pd.DataFrame()\n",
    "ratings['NonZeroFlavors'] = flavors_count.sum(axis=1)"
   ]
  },
  {
   "cell_type": "markdown",
   "metadata": {},
   "source": [
    "next calculate average rating per whisky and standard deviation of scores. higher mean is better. lower standard deviation is better since whisky is more balanced and no characteristic dominates its flavor profile."
   ]
  },
  {
   "cell_type": "code",
   "execution_count": 32,
   "metadata": {
    "collapsed": false
   },
   "outputs": [],
   "source": [
    "ratings['Mean'] = flavors.mean(axis=1)\n",
    "ratings['Std'] = flavors.std(axis=1)\n",
    "ratings['Score'] = ratings['Mean']/ratings['Std']"
   ]
  },
  {
   "cell_type": "code",
   "execution_count": 33,
   "metadata": {
    "collapsed": false
   },
   "outputs": [
    {
     "data": {
      "text/html": [
       "<div>\n",
       "<table border=\"1\" class=\"dataframe\">\n",
       "  <thead>\n",
       "    <tr style=\"text-align: right;\">\n",
       "      <th></th>\n",
       "      <th>NonZeroFlavors</th>\n",
       "      <th>Mean</th>\n",
       "      <th>Std</th>\n",
       "      <th>Score</th>\n",
       "    </tr>\n",
       "    <tr>\n",
       "      <th>Distillery</th>\n",
       "      <th></th>\n",
       "      <th></th>\n",
       "      <th></th>\n",
       "      <th></th>\n",
       "    </tr>\n",
       "  </thead>\n",
       "  <tbody>\n",
       "    <tr>\n",
       "      <th>Aberfeldy</th>\n",
       "      <td>10</td>\n",
       "      <td>1.583333</td>\n",
       "      <td>0.792961</td>\n",
       "      <td>1.996734</td>\n",
       "    </tr>\n",
       "    <tr>\n",
       "      <th>Aberlour</th>\n",
       "      <td>10</td>\n",
       "      <td>2.166667</td>\n",
       "      <td>1.267304</td>\n",
       "      <td>1.709665</td>\n",
       "    </tr>\n",
       "    <tr>\n",
       "      <th>AnCnoc</th>\n",
       "      <td>8</td>\n",
       "      <td>1.416667</td>\n",
       "      <td>1.164500</td>\n",
       "      <td>1.216545</td>\n",
       "    </tr>\n",
       "    <tr>\n",
       "      <th>Ardbeg</th>\n",
       "      <td>8</td>\n",
       "      <td>1.583333</td>\n",
       "      <td>1.621354</td>\n",
       "      <td>0.976550</td>\n",
       "    </tr>\n",
       "    <tr>\n",
       "      <th>Ardmore</th>\n",
       "      <td>10</td>\n",
       "      <td>1.333333</td>\n",
       "      <td>0.887625</td>\n",
       "      <td>1.502135</td>\n",
       "    </tr>\n",
       "  </tbody>\n",
       "</table>\n",
       "</div>"
      ],
      "text/plain": [
       "            NonZeroFlavors      Mean       Std     Score\n",
       "Distillery                                              \n",
       "Aberfeldy               10  1.583333  0.792961  1.996734\n",
       "Aberlour                10  2.166667  1.267304  1.709665\n",
       "AnCnoc                   8  1.416667  1.164500  1.216545\n",
       "Ardbeg                   8  1.583333  1.621354  0.976550\n",
       "Ardmore                 10  1.333333  0.887625  1.502135"
      ]
     },
     "execution_count": 33,
     "metadata": {},
     "output_type": "execute_result"
    }
   ],
   "source": [
    "ratings.head()"
   ]
  },
  {
   "cell_type": "code",
   "execution_count": 34,
   "metadata": {
    "collapsed": false
   },
   "outputs": [],
   "source": [
    "by_score_count = ratings.sort_values(by=['NonZeroFlavors', 'Score'], ascending=False)\n",
    "by_score = ratings.sort_values(by='Score', ascending=False)\n",
    "by_mean = ratings.sort_values(by='Mean', ascending=False)\n",
    "by_std = ratings.sort_values(by='Std', ascending=False)"
   ]
  },
  {
   "cell_type": "markdown",
   "metadata": {},
   "source": [
    "show by_mean, by_score, then by_score_count?"
   ]
  },
  {
   "cell_type": "code",
   "execution_count": 35,
   "metadata": {
    "collapsed": false
   },
   "outputs": [
    {
     "data": {
      "text/html": [
       "<div>\n",
       "<table border=\"1\" class=\"dataframe\">\n",
       "  <thead>\n",
       "    <tr style=\"text-align: right;\">\n",
       "      <th></th>\n",
       "      <th>NonZeroFlavors</th>\n",
       "      <th>Mean</th>\n",
       "      <th>Std</th>\n",
       "      <th>Score</th>\n",
       "    </tr>\n",
       "    <tr>\n",
       "      <th>Distillery</th>\n",
       "      <th></th>\n",
       "      <th></th>\n",
       "      <th></th>\n",
       "      <th></th>\n",
       "    </tr>\n",
       "  </thead>\n",
       "  <tbody>\n",
       "    <tr>\n",
       "      <th>Bruichladdich</th>\n",
       "      <td>11</td>\n",
       "      <td>1.583333</td>\n",
       "      <td>0.668558</td>\n",
       "      <td>2.368281</td>\n",
       "    </tr>\n",
       "    <tr>\n",
       "      <th>OldPulteney</th>\n",
       "      <td>11</td>\n",
       "      <td>1.500000</td>\n",
       "      <td>0.674200</td>\n",
       "      <td>2.224860</td>\n",
       "    </tr>\n",
       "    <tr>\n",
       "      <th>Scapa</th>\n",
       "      <td>11</td>\n",
       "      <td>1.500000</td>\n",
       "      <td>0.674200</td>\n",
       "      <td>2.224860</td>\n",
       "    </tr>\n",
       "    <tr>\n",
       "      <th>Bowmore</th>\n",
       "      <td>11</td>\n",
       "      <td>1.500000</td>\n",
       "      <td>0.797724</td>\n",
       "      <td>1.880350</td>\n",
       "    </tr>\n",
       "    <tr>\n",
       "      <th>OldFettercairn</th>\n",
       "      <td>11</td>\n",
       "      <td>1.500000</td>\n",
       "      <td>0.797724</td>\n",
       "      <td>1.880350</td>\n",
       "    </tr>\n",
       "    <tr>\n",
       "      <th>Dalmore</th>\n",
       "      <td>11</td>\n",
       "      <td>1.666667</td>\n",
       "      <td>0.887625</td>\n",
       "      <td>1.877669</td>\n",
       "    </tr>\n",
       "    <tr>\n",
       "      <th>RoyalBrackla</th>\n",
       "      <td>11</td>\n",
       "      <td>1.666667</td>\n",
       "      <td>0.887625</td>\n",
       "      <td>1.877669</td>\n",
       "    </tr>\n",
       "    <tr>\n",
       "      <th>Craigallechie</th>\n",
       "      <td>11</td>\n",
       "      <td>1.750000</td>\n",
       "      <td>0.965307</td>\n",
       "      <td>1.812894</td>\n",
       "    </tr>\n",
       "    <tr>\n",
       "      <th>Highland Park</th>\n",
       "      <td>11</td>\n",
       "      <td>1.416667</td>\n",
       "      <td>0.792961</td>\n",
       "      <td>1.786552</td>\n",
       "    </tr>\n",
       "    <tr>\n",
       "      <th>Bunnahabhain</th>\n",
       "      <td>11</td>\n",
       "      <td>1.333333</td>\n",
       "      <td>0.778499</td>\n",
       "      <td>1.712698</td>\n",
       "    </tr>\n",
       "  </tbody>\n",
       "</table>\n",
       "</div>"
      ],
      "text/plain": [
       "                NonZeroFlavors      Mean       Std     Score\n",
       "Distillery                                                  \n",
       "Bruichladdich               11  1.583333  0.668558  2.368281\n",
       "OldPulteney                 11  1.500000  0.674200  2.224860\n",
       "Scapa                       11  1.500000  0.674200  2.224860\n",
       "Bowmore                     11  1.500000  0.797724  1.880350\n",
       "OldFettercairn              11  1.500000  0.797724  1.880350\n",
       "Dalmore                     11  1.666667  0.887625  1.877669\n",
       "RoyalBrackla                11  1.666667  0.887625  1.877669\n",
       "Craigallechie               11  1.750000  0.965307  1.812894\n",
       "Highland Park               11  1.416667  0.792961  1.786552\n",
       "Bunnahabhain                11  1.333333  0.778499  1.712698"
      ]
     },
     "execution_count": 35,
     "metadata": {},
     "output_type": "execute_result"
    }
   ],
   "source": [
    "by_score_count.head(10)"
   ]
  },
  {
   "cell_type": "markdown",
   "metadata": {},
   "source": [
    "not surprised the extreme scotches are ranked top by std since severaly dominated by a few flavor characteristics "
   ]
  },
  {
   "cell_type": "code",
   "execution_count": 36,
   "metadata": {
    "collapsed": false
   },
   "outputs": [
    {
     "data": {
      "text/plain": [
       "<matplotlib.axes._subplots.AxesSubplot at 0xb7dfd68>"
      ]
     },
     "execution_count": 36,
     "metadata": {},
     "output_type": "execute_result"
    },
    {
     "data": {
      "image/png": "[encoded data removed]",
      "text/plain": [
       "<matplotlib.figure.Figure at 0xb561438>"
      ]
     },
     "metadata": {},
     "output_type": "display_data"
    }
   ],
   "source": [
    "by_score_count['Score'].head(10).sort_values().plot(kind='barh')"
   ]
  },
  {
   "cell_type": "markdown",
   "metadata": {},
   "source": [
    "top ranked scotches mapped. are the top scotches confined to a specific geographic region?"
   ]
  },
  {
   "cell_type": "code",
   "execution_count": 20,
   "metadata": {
    "collapsed": false
   },
   "outputs": [],
   "source": [
    "map_data = by_score_count.head(top_scotches_to_map).merge(location, how='left', left_index=True, right_index=True)"
   ]
  },
  {
   "cell_type": "code",
   "execution_count": 22,
   "metadata": {
    "collapsed": false
   },
   "outputs": [],
   "source": [
    "map_data.reset_index().loc[:,['FinalLat','FinalLong','Distillery']].to_csv('top_whiskies.csv')"
   ]
  },
  {
   "cell_type": "markdown",
   "metadata": {},
   "source": [
    "if ranking is not indicative of highest quality scotches, why might that be? essential component of flavor or something else missing? flavor classification is not? advertisment, quality is responsible for notierity of certain brands. our definition of \"best\" differs from how most judge whisky. for example, the smoky islay scotches won't be at the top of the list due to their extreme flavor profile, though interestingly the top ranked scotch is from islay, just not one of the smoky guys. notice this rating system is all about balance."
   ]
  }
 ],
 "metadata": {
  "kernelspec": {
   "display_name": "Python 2",
   "language": "python",
   "name": "python2"
  },
  "language_info": {
   "codemirror_mode": {
    "name": "ipython",
    "version": 2
   },
   "file_extension": ".py",
   "mimetype": "text/x-python",
   "name": "python",
   "nbconvert_exporter": "python",
   "pygments_lexer": "ipython2",
   "version": "2.7.11"
  }
 },
 "nbformat": 4,
 "nbformat_minor": 0
}
