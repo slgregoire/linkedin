{
 "cells": [
  {
   "cell_type": "markdown",
   "metadata": {},
   "source": [
    "In this post, I propose and implement a method of quality ranking scotches that attempts to remove the preferences of specific tasters from influencing the ultimate results as much as possible. First, I define the ranking method, then I implement it, generating a list of the \"best\" scotches."
   ]
  },
  {
   "cell_type": "markdown",
   "metadata": {},
   "source": [
    "#### Method"
   ]
  },
  {
   "cell_type": "markdown",
   "metadata": {},
   "source": [
    "To rank scotches, one first needs to specify a set of criteria by which to judge every scotch. Once those criteria are defined, the \"best\" scotches will be those that rank most highly according to the criteria. I propose complexity and balance as the essential criteria to judge scotch. [source]\n",
    "\n",
    "How are complexity and balance defined? Imagine the ideal or perfect scotch. According to one theory, that scotch would possess all the possible flavors that a scotch could possess. For example, it would be fruity, smoky, peaty, et cetera. A scotch that possesses a large number of these possible flavors is called complex. Additionally in the ideal scotch, each of the flavors would be distinct, not muddled, and discernible. No small group of flavors would dominate all of the others. If a scotch possesses this quality, it is called balanced. So not only does the ideal scotch possess a large number of flavors, it possess them in right proportion to one another so that all are identifiable by a skilled taster. \n",
    "\n",
    "The more complex and balanced a scotch is, the more closely it approximates the ideal scotch and the higher it ranks according to this method."
   ]
  },
  {
   "cell_type": "markdown",
   "metadata": {},
   "source": [
    "#### Implementation"
   ]
  },
  {
   "cell_type": "code",
   "execution_count": 1,
   "metadata": {
    "collapsed": false
   },
   "outputs": [
    {
     "name": "stderr",
     "output_type": "stream",
     "text": [
      ":0: FutureWarning: IPython widgets are experimental and may change in the future.\n"
     ]
    }
   ],
   "source": [
    "%matplotlib inline\n",
    "import pandas as pd\n",
    "import numpy as np\n",
    "import seaborn as sns\n",
    "import matplotlib.pyplot as plt\n",
    "from IPython.display import display\n",
    "sns.set_style('white')\n",
    "sns.set_context(\"notebook\", font_scale=1.2)"
   ]
  },
  {
   "cell_type": "code",
   "execution_count": 2,
   "metadata": {
    "collapsed": true
   },
   "outputs": [],
   "source": [
    "file_name = 'whiskies_w_coords.csv'\n",
    "top_scotches_to_map = 7"
   ]
  },
  {
   "cell_type": "code",
   "execution_count": 3,
   "metadata": {
    "collapsed": false
   },
   "outputs": [],
   "source": [
    "data = pd.read_csv(file_name)\n",
    "to_rename = {\n",
    "    'whiskies.Latitude':'FinalLat',\n",
    "    'whiskies.Longitude':'FinalLong'\n",
    "}\n",
    "data = data.rename(columns=to_rename)\n",
    "data = data.set_index('Distillery')\n",
    "data = data.loc[:,'Body':]"
   ]
  },
  {
   "cell_type": "code",
   "execution_count": 4,
   "metadata": {
    "collapsed": false
   },
   "outputs": [],
   "source": [
    "flavors = data.loc[:, 'Body':'Floral']\n",
    "location = data.loc[:, 'FinalLat':]"
   ]
  },
  {
   "cell_type": "markdown",
   "metadata": {},
   "source": [
    "How can one actually implement this method of ranking scotches? Before I answer that question, I will describe the data that are used as inputs to this method. The data, which can be sourced from this site [source], describe the range and intensity of flavors that are present in a given scotch. The data set has 12 columns; each one corresponding to a different flavor that may be present in scotch, for example sweetness, smoky, honey, or floral. Each row of the data set corresponds to a distillery, and each distillery is represented by a single record. You may ask, how can each distillery be represented by single record? The reason is that each distillery is rated based upon its most popular product, not its full range of products. Each distillery is rated from 0 to 4 in each flavor category; 0 being low/no intensity, 4 being high intensity. The 0 to 4 ratings were assigned initially by a small panel of experts, then passed around to various other members of the whisky industry for feedback. See [source] for more info on the data and the details of the original analysis, including clustering and principal component analysis, performed with this data"
   ]
  },
  {
   "cell_type": "code",
   "execution_count": 5,
   "metadata": {
    "collapsed": false
   },
   "outputs": [
    {
     "data": {
      "text/html": [
       "<div>\n",
       "<table border=\"1\" class=\"dataframe\">\n",
       "  <thead>\n",
       "    <tr style=\"text-align: right;\">\n",
       "      <th></th>\n",
       "      <th>Body</th>\n",
       "      <th>Sweetness</th>\n",
       "      <th>Smoky</th>\n",
       "      <th>Medicinal</th>\n",
       "      <th>Tobacco</th>\n",
       "      <th>Honey</th>\n",
       "      <th>Spicy</th>\n",
       "      <th>Winey</th>\n",
       "      <th>Nutty</th>\n",
       "      <th>Malty</th>\n",
       "      <th>Fruity</th>\n",
       "      <th>Floral</th>\n",
       "    </tr>\n",
       "    <tr>\n",
       "      <th>Distillery</th>\n",
       "      <th></th>\n",
       "      <th></th>\n",
       "      <th></th>\n",
       "      <th></th>\n",
       "      <th></th>\n",
       "      <th></th>\n",
       "      <th></th>\n",
       "      <th></th>\n",
       "      <th></th>\n",
       "      <th></th>\n",
       "      <th></th>\n",
       "      <th></th>\n",
       "    </tr>\n",
       "  </thead>\n",
       "  <tbody>\n",
       "    <tr>\n",
       "      <th>Aberfeldy</th>\n",
       "      <td>2</td>\n",
       "      <td>2</td>\n",
       "      <td>2</td>\n",
       "      <td>0</td>\n",
       "      <td>0</td>\n",
       "      <td>2</td>\n",
       "      <td>1</td>\n",
       "      <td>2</td>\n",
       "      <td>2</td>\n",
       "      <td>2</td>\n",
       "      <td>2</td>\n",
       "      <td>2</td>\n",
       "    </tr>\n",
       "    <tr>\n",
       "      <th>Aberlour</th>\n",
       "      <td>3</td>\n",
       "      <td>3</td>\n",
       "      <td>1</td>\n",
       "      <td>0</td>\n",
       "      <td>0</td>\n",
       "      <td>4</td>\n",
       "      <td>3</td>\n",
       "      <td>2</td>\n",
       "      <td>2</td>\n",
       "      <td>3</td>\n",
       "      <td>3</td>\n",
       "      <td>2</td>\n",
       "    </tr>\n",
       "    <tr>\n",
       "      <th>AnCnoc</th>\n",
       "      <td>1</td>\n",
       "      <td>3</td>\n",
       "      <td>2</td>\n",
       "      <td>0</td>\n",
       "      <td>0</td>\n",
       "      <td>2</td>\n",
       "      <td>0</td>\n",
       "      <td>0</td>\n",
       "      <td>2</td>\n",
       "      <td>2</td>\n",
       "      <td>3</td>\n",
       "      <td>2</td>\n",
       "    </tr>\n",
       "    <tr>\n",
       "      <th>Ardbeg</th>\n",
       "      <td>4</td>\n",
       "      <td>1</td>\n",
       "      <td>4</td>\n",
       "      <td>4</td>\n",
       "      <td>0</td>\n",
       "      <td>0</td>\n",
       "      <td>2</td>\n",
       "      <td>0</td>\n",
       "      <td>1</td>\n",
       "      <td>2</td>\n",
       "      <td>1</td>\n",
       "      <td>0</td>\n",
       "    </tr>\n",
       "    <tr>\n",
       "      <th>Ardmore</th>\n",
       "      <td>2</td>\n",
       "      <td>2</td>\n",
       "      <td>2</td>\n",
       "      <td>0</td>\n",
       "      <td>0</td>\n",
       "      <td>1</td>\n",
       "      <td>1</td>\n",
       "      <td>1</td>\n",
       "      <td>2</td>\n",
       "      <td>3</td>\n",
       "      <td>1</td>\n",
       "      <td>1</td>\n",
       "    </tr>\n",
       "  </tbody>\n",
       "</table>\n",
       "</div>"
      ],
      "text/plain": [
       "            Body  Sweetness  Smoky  Medicinal  Tobacco  Honey  Spicy  Winey  \\\n",
       "Distillery                                                                    \n",
       "Aberfeldy      2          2      2          0        0      2      1      2   \n",
       "Aberlour       3          3      1          0        0      4      3      2   \n",
       "AnCnoc         1          3      2          0        0      2      0      0   \n",
       "Ardbeg         4          1      4          4        0      0      2      0   \n",
       "Ardmore        2          2      2          0        0      1      1      1   \n",
       "\n",
       "            Nutty  Malty  Fruity  Floral  \n",
       "Distillery                                \n",
       "Aberfeldy       2      2       2       2  \n",
       "Aberlour        2      3       3       2  \n",
       "AnCnoc          2      2       3       2  \n",
       "Ardbeg          1      2       1       0  \n",
       "Ardmore         2      3       1       1  "
      ]
     },
     "execution_count": 5,
     "metadata": {},
     "output_type": "execute_result"
    }
   ],
   "source": [
    "flavors.head()"
   ]
  },
  {
   "cell_type": "code",
   "execution_count": 6,
   "metadata": {
    "collapsed": false
   },
   "outputs": [
    {
     "data": {
      "text/html": [
       "<div>\n",
       "<table border=\"1\" class=\"dataframe\">\n",
       "  <thead>\n",
       "    <tr style=\"text-align: right;\">\n",
       "      <th></th>\n",
       "      <th>FinalLat</th>\n",
       "      <th>FinalLong</th>\n",
       "    </tr>\n",
       "    <tr>\n",
       "      <th>Distillery</th>\n",
       "      <th></th>\n",
       "      <th></th>\n",
       "    </tr>\n",
       "  </thead>\n",
       "  <tbody>\n",
       "    <tr>\n",
       "      <th>Aberfeldy</th>\n",
       "      <td>-3.850199</td>\n",
       "      <td>56.625191</td>\n",
       "    </tr>\n",
       "    <tr>\n",
       "      <th>Aberlour</th>\n",
       "      <td>-3.229644</td>\n",
       "      <td>57.467395</td>\n",
       "    </tr>\n",
       "    <tr>\n",
       "      <th>AnCnoc</th>\n",
       "      <td>-2.785295</td>\n",
       "      <td>57.441751</td>\n",
       "    </tr>\n",
       "    <tr>\n",
       "      <th>Ardbeg</th>\n",
       "      <td>-6.108503</td>\n",
       "      <td>55.640607</td>\n",
       "    </tr>\n",
       "    <tr>\n",
       "      <th>Ardmore</th>\n",
       "      <td>-2.743629</td>\n",
       "      <td>57.350557</td>\n",
       "    </tr>\n",
       "  </tbody>\n",
       "</table>\n",
       "</div>"
      ],
      "text/plain": [
       "            FinalLat  FinalLong\n",
       "Distillery                     \n",
       "Aberfeldy  -3.850199  56.625191\n",
       "Aberlour   -3.229644  57.467395\n",
       "AnCnoc     -2.785295  57.441751\n",
       "Ardbeg     -6.108503  55.640607\n",
       "Ardmore    -2.743629  57.350557"
      ]
     },
     "execution_count": 6,
     "metadata": {},
     "output_type": "execute_result"
    }
   ],
   "source": [
    "location.head()"
   ]
  },
  {
   "cell_type": "markdown",
   "metadata": {},
   "source": [
    "Using the data described above, one can calculate quantitatve measures of both complexity and balance and then rank scotches based upon these measures. First, complexity is captured by counting the number of flavor categories with a non-zero intensity rating; this count is referrred to as the \"complexity score.\" Second, balance is captured by calculating the mean flavor intensity divided by standard deviation of all flavor intensities for a given distillery; this value is referred to the \"balance score.\" The postive correlation between mean intensity and the balance score is meant to express the idea that a more intense flavor overall is preferable to a less intense one. The negative correlation between standard deviation and the balance score is meant to express the idea that a scotch with similar ratings across flavor categories is preferable to one with more disparate flavor intensities. In summary, \"balance\" increases as mean flavor intensity increases and decreases as the standard deviation of flavor intensities increases."
   ]
  },
  {
   "cell_type": "markdown",
   "metadata": {},
   "source": [
    "Calculate the \"complexity\" score."
   ]
  },
  {
   "cell_type": "code",
   "execution_count": 7,
   "metadata": {
    "collapsed": false
   },
   "outputs": [],
   "source": [
    "flavors_count = flavors != 0\n",
    "ratings = pd.DataFrame()\n",
    "ratings['Complexity'] = flavors_count.sum(axis=1)"
   ]
  },
  {
   "cell_type": "markdown",
   "metadata": {},
   "source": [
    "Calculate the \"balance\" score."
   ]
  },
  {
   "cell_type": "code",
   "execution_count": 8,
   "metadata": {
    "collapsed": false
   },
   "outputs": [],
   "source": [
    "ratings['Mean'] = flavors.mean(axis=1)\n",
    "ratings['Std'] = flavors.std(axis=1)\n",
    "ratings['Balance'] = ratings['Mean']/ratings['Std']"
   ]
  },
  {
   "cell_type": "code",
   "execution_count": 9,
   "metadata": {
    "collapsed": false
   },
   "outputs": [
    {
     "data": {
      "text/html": [
       "<div>\n",
       "<table border=\"1\" class=\"dataframe\">\n",
       "  <thead>\n",
       "    <tr style=\"text-align: right;\">\n",
       "      <th></th>\n",
       "      <th>Complexity</th>\n",
       "      <th>Mean</th>\n",
       "      <th>Std</th>\n",
       "      <th>Balance</th>\n",
       "    </tr>\n",
       "    <tr>\n",
       "      <th>Distillery</th>\n",
       "      <th></th>\n",
       "      <th></th>\n",
       "      <th></th>\n",
       "      <th></th>\n",
       "    </tr>\n",
       "  </thead>\n",
       "  <tbody>\n",
       "    <tr>\n",
       "      <th>Aberfeldy</th>\n",
       "      <td>10</td>\n",
       "      <td>1.583333</td>\n",
       "      <td>0.792961</td>\n",
       "      <td>1.996734</td>\n",
       "    </tr>\n",
       "    <tr>\n",
       "      <th>Aberlour</th>\n",
       "      <td>10</td>\n",
       "      <td>2.166667</td>\n",
       "      <td>1.267304</td>\n",
       "      <td>1.709665</td>\n",
       "    </tr>\n",
       "    <tr>\n",
       "      <th>AnCnoc</th>\n",
       "      <td>8</td>\n",
       "      <td>1.416667</td>\n",
       "      <td>1.164500</td>\n",
       "      <td>1.216545</td>\n",
       "    </tr>\n",
       "    <tr>\n",
       "      <th>Ardbeg</th>\n",
       "      <td>8</td>\n",
       "      <td>1.583333</td>\n",
       "      <td>1.621354</td>\n",
       "      <td>0.976550</td>\n",
       "    </tr>\n",
       "    <tr>\n",
       "      <th>Ardmore</th>\n",
       "      <td>10</td>\n",
       "      <td>1.333333</td>\n",
       "      <td>0.887625</td>\n",
       "      <td>1.502135</td>\n",
       "    </tr>\n",
       "  </tbody>\n",
       "</table>\n",
       "</div>"
      ],
      "text/plain": [
       "            Complexity      Mean       Std   Balance\n",
       "Distillery                                          \n",
       "Aberfeldy           10  1.583333  0.792961  1.996734\n",
       "Aberlour            10  2.166667  1.267304  1.709665\n",
       "AnCnoc               8  1.416667  1.164500  1.216545\n",
       "Ardbeg               8  1.583333  1.621354  0.976550\n",
       "Ardmore             10  1.333333  0.887625  1.502135"
      ]
     },
     "execution_count": 9,
     "metadata": {},
     "output_type": "execute_result"
    }
   ],
   "source": [
    "ratings.head()"
   ]
  },
  {
   "cell_type": "markdown",
   "metadata": {},
   "source": [
    "The complexity and balance scores must then be used in such a way so as to create a single ranking of all scotches. Without combining the two scores into a single metric, there are two ways to use these two scores to create a single ranking: either sort by complexity first, then balance; or by balance first, then complexity. There is a large degree of overlap between the resulting two rankings; seven of the top ten whiskies are the same irrelevant of which order the sorting is performed. These seven scotches and their respective scores are listed below."
   ]
  },
  {
   "cell_type": "code",
   "execution_count": 16,
   "metadata": {
    "collapsed": false
   },
   "outputs": [],
   "source": [
    "ratings = ratings.reset_index()\n",
    "\n",
    "by_count_score = ratings.sort_values(by=['Complexity', 'Balance'], ascending=False)\n",
    "by_count_score = by_count_score.reset_index(drop=True)\n",
    "by_count_score['ComplexityThenBalanceRank'] = by_count_score.reset_index()['index'] + 1\n",
    "\n",
    "by_score_count = ratings.sort_values(by=['Balance', 'Complexity'], ascending=False)\n",
    "by_score_count = by_score_count.reset_index(drop=True)\n",
    "by_score_count['BalanceThenComplexityRank'] = by_score_count.reset_index()['index'] + 1"
   ]
  },
  {
   "cell_type": "code",
   "execution_count": 17,
   "metadata": {
    "collapsed": false
   },
   "outputs": [],
   "source": [
    "ratings_table = ratings.merge(by_count_score[['Distillery', 'ComplexityThenBalanceRank']], how='inner', on='Distillery')\n",
    "ratings_table = ratings_table.merge(by_score_count[['Distillery', 'BalanceThenComplexityRank']], how='inner', on='Distillery')\n",
    "ratings_table.to_csv('top_scotch_table.csv', index=False)"
   ]
  },
  {
   "cell_type": "code",
   "execution_count": 18,
   "metadata": {
    "collapsed": false
   },
   "outputs": [],
   "source": [
    "ratings['Category'] = ''\n",
    "\n",
    "best_scotches_intersection = set(by_score_count['Distillery'].head(10)).intersection(by_count_score['Distillery'].head(10))\n",
    "best_scotches_union = set(by_score_count['Distillery'].head(10)).union(by_count_score['Distillery'].head(10))\n",
    "ratings.loc[ratings.loc[:, 'Distillery'].isin(best_scotches_intersection), 'Category'] = 'Best in Both'\n",
    "top_in_one_mask = ratings.loc[:, 'Distillery'].isin(best_scotches_union) & ~ratings.loc[:, 'Distillery'].isin(best_scotches_intersection)\n",
    "ratings.loc[top_in_one_mask, 'Category'] = 'Best in One'\n",
    "\n",
    "popular_scotches = ['Macallan', 'Glenlivet', 'Glenfiddich', 'Glenmorangie', 'Laphroig']\n",
    "ratings.loc[ratings.loc[:, 'Distillery'].isin(popular_scotches), 'Category'] = 'Popular'"
   ]
  },
  {
   "cell_type": "code",
   "execution_count": 19,
   "metadata": {
    "collapsed": false
   },
   "outputs": [
    {
     "data": {
      "text/html": [
       "<div>\n",
       "<table border=\"1\" class=\"dataframe\">\n",
       "  <thead>\n",
       "    <tr style=\"text-align: right;\">\n",
       "      <th></th>\n",
       "      <th>index</th>\n",
       "      <th>Distillery</th>\n",
       "      <th>Complexity</th>\n",
       "      <th>Mean</th>\n",
       "      <th>Std</th>\n",
       "      <th>Balance</th>\n",
       "      <th>Category</th>\n",
       "    </tr>\n",
       "  </thead>\n",
       "  <tbody>\n",
       "    <tr>\n",
       "      <th>45</th>\n",
       "      <td>45</td>\n",
       "      <td>Glenfiddich</td>\n",
       "      <td>6</td>\n",
       "      <td>0.916667</td>\n",
       "      <td>1.083625</td>\n",
       "      <td>0.845926</td>\n",
       "      <td>Popular</td>\n",
       "    </tr>\n",
       "    <tr>\n",
       "      <th>48</th>\n",
       "      <td>48</td>\n",
       "      <td>Glenlivet</td>\n",
       "      <td>10</td>\n",
       "      <td>1.666667</td>\n",
       "      <td>0.984732</td>\n",
       "      <td>1.692508</td>\n",
       "      <td>Popular</td>\n",
       "    </tr>\n",
       "    <tr>\n",
       "      <th>50</th>\n",
       "      <td>50</td>\n",
       "      <td>Glenmorangie</td>\n",
       "      <td>10</td>\n",
       "      <td>1.333333</td>\n",
       "      <td>0.778499</td>\n",
       "      <td>1.712698</td>\n",
       "      <td>Popular</td>\n",
       "    </tr>\n",
       "    <tr>\n",
       "      <th>58</th>\n",
       "      <td>58</td>\n",
       "      <td>Laphroig</td>\n",
       "      <td>8</td>\n",
       "      <td>1.500000</td>\n",
       "      <td>1.623688</td>\n",
       "      <td>0.923823</td>\n",
       "      <td>Popular</td>\n",
       "    </tr>\n",
       "    <tr>\n",
       "      <th>62</th>\n",
       "      <td>62</td>\n",
       "      <td>Macallan</td>\n",
       "      <td>10</td>\n",
       "      <td>1.916667</td>\n",
       "      <td>1.378954</td>\n",
       "      <td>1.389942</td>\n",
       "      <td>Popular</td>\n",
       "    </tr>\n",
       "  </tbody>\n",
       "</table>\n",
       "</div>"
      ],
      "text/plain": [
       "    index    Distillery  Complexity      Mean       Std   Balance Category\n",
       "45     45   Glenfiddich           6  0.916667  1.083625  0.845926  Popular\n",
       "48     48     Glenlivet          10  1.666667  0.984732  1.692508  Popular\n",
       "50     50  Glenmorangie          10  1.333333  0.778499  1.712698  Popular\n",
       "58     58      Laphroig           8  1.500000  1.623688  0.923823  Popular\n",
       "62     62      Macallan          10  1.916667  1.378954  1.389942  Popular"
      ]
     },
     "execution_count": 19,
     "metadata": {},
     "output_type": "execute_result"
    }
   ],
   "source": [
    "ratings[ratings.loc[:,'Category'] == 'Popular']"
   ]
  },
  {
   "cell_type": "code",
   "execution_count": 20,
   "metadata": {
    "collapsed": false
   },
   "outputs": [
    {
     "data": {
      "text/plain": [
       "<matplotlib.legend.Legend at 0x187a5278>"
      ]
     },
     "execution_count": 20,
     "metadata": {},
     "output_type": "execute_result"
    },
    {
     "data": {
      "image/png": "[encoded data removed]",
      "text/plain": [
       "<matplotlib.figure.Figure at 0x182438d0>"
      ]
     },
     "metadata": {},
     "output_type": "display_data"
    }
   ],
   "source": [
    "hue_mapping = {\n",
    "    '': 'lightgrey',\n",
    "    'Best in One': 'lightgreen',\n",
    "    'Best in Both': 'green',\n",
    "    'Popular': 'blue'\n",
    "}\n",
    "g = sns.swarmplot(y='Balance', x='Complexity', hue='Category', palette=hue_mapping, data=ratings)\n",
    "g.set(xticklabels=[], yticklabels=[], title='Scotch Ranking')\n",
    "sns.despine(bottom=False, left=False)\n",
    "plt.legend(loc='lower right')"
   ]
  },
  {
   "cell_type": "markdown",
   "metadata": {},
   "source": [
    "One question that comes to mind is, are the top scotches generally produced in a specific geographical area of Scotland? The graph below plots the locations of the distilleries that produce the top five scotches. Interestingly, two of the top five scotches (Bruichladdich and Bowmore) are produced by distilleries located on the island of Islay, which is generally known for very unbalanced, smokey scotches. Also, three of the top five scotches are produced by distilleries located on islands off the coast of Scotland. Is there some reason to believe that a higher quality is more likely to be produced at a distillery located on an island?"
   ]
  },
  {
   "cell_type": "code",
   "execution_count": 25,
   "metadata": {
    "collapsed": false
   },
   "outputs": [],
   "source": [
    "map_data = ratings[ratings['Category'] == 'Best in Both'].merge(location, how='left', left_on='Distillery', right_index=True)"
   ]
  },
  {
   "cell_type": "code",
   "execution_count": 23,
   "metadata": {
    "collapsed": false
   },
   "outputs": [],
   "source": [
    "map_data.reset_index().loc[:,['FinalLat','FinalLong','Distillery']].to_csv('top_scotches_map.csv')"
   ]
  },
  {
   "cell_type": "markdown",
   "metadata": {},
   "source": [
    "This method of ranking the quality of scotches, though not without its weaknesses, has some important strengths. Among them are its simplicity and the fact that it removes any variation in ratings due to individual taster preferences. As such, it is an interesting complement to more traditional rating methods.\n",
    "\n",
    "What is your opinion of this ranking method? Leave your thoughts in the comments. "
   ]
  },
  {
   "cell_type": "markdown",
   "metadata": {},
   "source": [
    "references: \n",
    "1. \"The Ideal Scotch\" by Thom Brooks in \"Whiskey and Philosophy\"\n",
    "2. http://whiskyanalysis.com/index.php/methodology-introduction/methodology-flavour-comparison/\n",
    "3. https://www.mathstat.strath.ac.uk/outreach/nessie/nessie_whisky.html- "
   ]
  }
 ],
 "metadata": {
  "kernelspec": {
   "display_name": "Python 2",
   "language": "python",
   "name": "python2"
  },
  "language_info": {
   "codemirror_mode": {
    "name": "ipython",
    "version": 2
   },
   "file_extension": ".py",
   "mimetype": "text/x-python",
   "name": "python",
   "nbconvert_exporter": "python",
   "pygments_lexer": "ipython2",
   "version": "2.7.11"
  }
 },
 "nbformat": 4,
 "nbformat_minor": 0
}
